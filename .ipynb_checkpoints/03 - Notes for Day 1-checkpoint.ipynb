{
 "cells": [
  {
   "cell_type": "markdown",
   "metadata": {},
   "source": [
    "# 03: Notes for Day 1"
   ]
  },
  {
   "cell_type": "markdown",
   "metadata": {},
   "source": [
    "## The recording\n",
    "\n",
    "[Click here to view the recording of Day 1.](https://us02web.zoom.us/rec/share/nNLkT8nnWeewUvs0JLQCquITn6OiPKqqcfIhzXgVfN7m6ShUVsGn3TJg2K_dxbRT.GpNE74qktIkc-Zt-) The passcode is **ppdUsW8**."
   ]
  },
  {
   "cell_type": "markdown",
   "metadata": {},
   "source": [
    "## The program we wrote: `hello_there.js`\n",
    "\n",
    "Here’s the complete code for the program we wrote (your program will probably be slightly different):"
   ]
  },
  {
   "cell_type": "code",
   "execution_count": 1,
   "metadata": {},
   "outputs": [
    {
     "name": "stdout",
     "output_type": "stream",
     "text": [
      "Hello there!\n",
      "Welcome to the program.\n",
      "Joey\n",
      "134\n",
      "My name is Joey\n"
     ]
    }
   ],
   "source": [
    "console.log(\"Hello there!\")\n",
    "console.log(\"Welcome to the program.\")\n",
    "let name = \"Joey\"\n",
    "console.log(name)\n",
    "let sum = 56 + 78\n",
    "console.log(sum)\n",
    "console.log(`My name is ${name}`)"
   ]
  },
  {
   "cell_type": "markdown",
   "metadata": {},
   "source": [
    "## `console.log()`\n",
    "\n",
    "For the next little while, we’re going to be using `console.log()` a lot. We’ll use it to print the output of our program on the command line. \n",
    "\n",
    "It makes use of two things:\n",
    "\n",
    "* The **console** is a place where JavaScript can output text for the programmer (that’s you!) so that they have an idea of what the program’s doing. The users usually don’t see the text in the console.\n",
    "* **`log()`** is one of the commands that’s built into the console. You give something to `log()`, and it prints it to the console."
   ]
  },
  {
   "cell_type": "markdown",
   "metadata": {},
   "source": [
    "## Strings\n",
    "\n",
    "In computer programming, **strings** refer to text. Our little computer program makes use of the following strings:\n",
    "\n",
    "* \"Hello there!\"\n",
    "* \"Welcome to the program.\"\n",
    "* \"Joey\"\n",
    "* \"My name is ${name}\"\n",
    "\n",
    "They’re called strings because they’re a string of characters. By character, we mean a letter, number, punctuation mark, space, emoji, and so on.\n",
    "\n",
    "You write strings by enclosing them in quotes. You can use double quotes:\n",
    "\n",
    "```\n",
    "\"Hi there!\"\n",
    "```\n",
    "\n",
    "Or single quotes:\n",
    "\n",
    "```\n",
    "'Hi there!'\n",
    "```\n",
    "\n",
    "Or backticks:\n",
    "\n",
    "```\n",
    "`Hi there!`\n",
    "```\n",
    "\n",
    "Strings enclosed in backticks are special, but we’ll talk about that later."
   ]
  },
  {
   "cell_type": "markdown",
   "metadata": {},
   "source": [
    "## Variables\n",
    "\n",
    "Programs use **variables** as containers for values. Our little program uses two variables.\n",
    "\n",
    "The first variable, `name`, was assigned the value \"Joey\", which is a string:\n",
    "\n",
    "```\n",
    "let name = \"Joey\"\n",
    "```\n",
    "\n",
    "* `let` is JavaScript for “I’m creating a variable”. \n",
    "* `name` is the name of the variable being created.\n",
    "* `=` is JavaScript’s way of assigning a value to something. In this case, we’re assigning a value to the variable `name`.\n",
    "* \"Joey\" the value being assigned to `name`.\n",
    "\n",
    "The second variable, `sum`, was assigned the sum of two numbers:\n",
    "\n",
    "```\n",
    "let sum = 56 + 78\n",
    "```\n",
    "\n",
    "* `let` is JavaScript for “I’m creating a variable”. \n",
    "* `sum` is the name of the variable being created.\n",
    "* `=` is JavaScript’s way of assigning a value to something. In this case, we’re assigning a value to the variable `sum`.\n",
    "* 56 + 78 the value being assigned to `sum`. JavaScript first calculates the value of 56 + 78, and then assigns that value to `sum`.\n",
    "\n",
    "We used `console.log()` to print out the values in those variables:"
   ]
  },
  {
   "cell_type": "code",
   "execution_count": 2,
   "metadata": {},
   "outputs": [
    {
     "name": "stdout",
     "output_type": "stream",
     "text": [
      "Joey\n"
     ]
    }
   ],
   "source": [
    "console.log(name)"
   ]
  },
  {
   "cell_type": "markdown",
   "metadata": {},
   "source": [
    "Note that the output of `console.log(name)` was not \"name\", but \"Joey\". That’s because `name` is not in quotes, which means that JavaScript isn’t supposed to literally print it out.\n",
    "\n",
    "Instead, JavaScript is supposed to evaluate what `name` is. We assigned the value \"Joey\" to `name`, so that’s what gets printed out.\n",
    "\n",
    "Here’s what would’ve happened if we’d put `name` in quotes:"
   ]
  },
  {
   "cell_type": "code",
   "execution_count": 3,
   "metadata": {},
   "outputs": [
    {
     "name": "stdout",
     "output_type": "stream",
     "text": [
      "name\n"
     ]
    }
   ],
   "source": [
    "console.log(\"name\")"
   ]
  },
  {
   "cell_type": "markdown",
   "metadata": {},
   "source": [
    "In programming, we refer to \"name\" (in quotes) as a **string literal**. It’s a string, and JavaScripts takes it literally as text made up of the letters n, a, m, and e.\n",
    "\n",
    "On the other hand, `name` (not in quotes) is a variable. JavaScript doesn’t take it literally; instead, it treats it as a container for a value."
   ]
  },
  {
   "cell_type": "markdown",
   "metadata": {},
   "source": [
    "## String interpolation (or: The backtick trick)\n",
    "\n",
    "Let’s take a closer look at the final line of the program:"
   ]
  },
  {
   "cell_type": "code",
   "execution_count": 4,
   "metadata": {},
   "outputs": [
    {
     "name": "stdout",
     "output_type": "stream",
     "text": [
      "My name is Joey\n"
     ]
    }
   ],
   "source": [
    "console.log(`My name is ${name}`)"
   ]
  },
  {
   "cell_type": "markdown",
   "metadata": {},
   "source": [
    "String in backticks allows for what’s called **string interpolation**. That’s a fancy compuetr science-y phrase that means “A string literal that contains placeholders that will be replaced when the program runs”.\n",
    "\n",
    "The final line of the code treats the `My name is` part literally, but treats anything inside the `${` and `}` characters as a something to be evaluated. In this case, it’s the variable `name` — JavaScript evaluates it value, which in my program is \"Joey\", and replaces the `${name}` placeholder with it."
   ]
  },
  {
   "cell_type": "markdown",
   "metadata": {},
   "source": [
    "## Learn how to use the command line\n",
    "\n",
    "If you’re doing any kind of programming, you need to get used to working with the command line. That means:\n",
    "\n",
    "* **Command Prompt** in Windows\n",
    "* **Terminal** in macOS and Linux\n",
    "\n",
    "If you’re on Windows, check out this quick guide: [**How to use the Windows command line (DOS)**](https://www.computerhope.com/issues/chusedos.htm).\n",
    "\n",
    "If you’re on macOS, this guide is for you: [**Introduction to the Mac OS X Command Line**](https://blog.teamtreehouse.com/introduction-to-the-mac-os-x-command-line)."
   ]
  }
 ],
 "metadata": {
  "kernelspec": {
   "display_name": "Javascript (Node.js)",
   "language": "javascript",
   "name": "javascript"
  },
  "language_info": {
   "file_extension": ".js",
   "mimetype": "application/javascript",
   "name": "javascript",
   "version": "8.10.0"
  }
 },
 "nbformat": 4,
 "nbformat_minor": 4
}
