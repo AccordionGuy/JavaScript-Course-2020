{
 "cells": [
  {
   "cell_type": "markdown",
   "metadata": {},
   "source": [
    "# 05: Notes for Day 2"
   ]
  },
  {
   "cell_type": "markdown",
   "metadata": {},
   "source": [
    "## Working with strings\n",
    "\n",
    "We did the most brief coverage of strings. We’ll do considerably more work with them later."
   ]
  },
  {
   "cell_type": "markdown",
   "metadata": {},
   "source": [
    "### Concatenating (adding) strings together\n",
    "\n",
    "A lot of programming involves assembling strings out of smaller strings. One way to assemble strings is to use the `+` operator, which joins — or, as we say in computer science, *concatenates* — two or more strings."
   ]
  },
  {
   "cell_type": "code",
   "execution_count": 1,
   "metadata": {},
   "outputs": [
    {
     "data": {
      "text/plain": [
       "'Helloworld'"
      ]
     },
     "execution_count": 1,
     "metadata": {},
     "output_type": "execute_result"
    }
   ],
   "source": [
    "\"Hello\" + \"world\""
   ]
  },
  {
   "cell_type": "code",
   "execution_count": 2,
   "metadata": {},
   "outputs": [
    {
     "data": {
      "text/plain": [
       "'Hello world'"
      ]
     },
     "execution_count": 2,
     "metadata": {},
     "output_type": "execute_result"
    }
   ],
   "source": [
    "\"Hello\" + \" \" + \"world\""
   ]
  },
  {
   "cell_type": "markdown",
   "metadata": {},
   "source": [
    "### String interpolation\n",
    "\n",
    "Strings that are quoted with the backtick character — **\\`** — are sometimes called *template literals* because they can be used as templates to embed other values.\n",
    "\n",
    "Consider the example below, where we embed the contents of a variable and the result of a calculation into a string:"
   ]
  },
  {
   "cell_type": "code",
   "execution_count": 3,
   "metadata": {},
   "outputs": [
    {
     "name": "stdout",
     "output_type": "stream",
     "text": [
      "At 28 dollars each, your total is 140.\n"
     ]
    }
   ],
   "source": [
    "let numberOfTickets = 5\n",
    "let ticketPrice = 28\n",
    "console.log(`At ${ticketPrice} dollars each, your total is ${numberOfTickets * ticketPrice}.`)"
   ]
  },
  {
   "cell_type": "markdown",
   "metadata": {},
   "source": [
    "## Decision-making\n",
    "\n",
    "A key part of programming is making decisions, and then doing something based on that decision. In JavaScript, we make decisions with `if`, `else if`, and `else` statements.\n",
    "\n",
    "In all the `if`, `else if`, and `else` examples below, there are two constants:"
   ]
  },
  {
   "cell_type": "code",
   "execution_count": 4,
   "metadata": {},
   "outputs": [],
   "source": [
    "// Change these values to see a different result\n",
    "const userIsSubscriber = false\n",
    "const score = 750"
   ]
  },
  {
   "cell_type": "markdown",
   "metadata": {},
   "source": [
    "### Simple decision making with `if`\n",
    "\n",
    "Consider the flowchart below:\n",
    "\n",
    "<img src=\"http://www.globalnerdy.com/wp-content/uploads/2020/10/pizza_1.jpg\" width=\"300\" />\n",
    "\n",
    "It shows a simple decision: If you have enough money for pizza, you order pizza. There’s an implied alternative that doesn’t have to be spelled out — if you don’t have the money, nothing happens.\n",
    "\n",
    "In JavaScript, you use a simple `if` statement to to make this kind of simple decision. Here’s how you’d model it in code:"
   ]
  },
  {
   "cell_type": "code",
   "execution_count": 5,
   "metadata": {},
   "outputs": [
    {
     "name": "stdout",
     "output_type": "stream",
     "text": [
      "All right! We're ordering pizza!\n"
     ]
    }
   ],
   "source": [
    "// Change this value to change the outcome\n",
    "var money = 15\n",
    "\n",
    "if (money > 10) {\n",
    "    console.log(\"All right! We're ordering pizza!\")\n",
    "}"
   ]
  },
  {
   "cell_type": "markdown",
   "metadata": {},
   "source": [
    "### Two outcomes with `if` and `else`\n",
    "\n",
    "Here’s a slightly more sophisticated flowchart:\n",
    "\n",
    "<img src=\"http://www.globalnerdy.com/wp-content/uploads/2020/10/pizza_2.jpg\" width=\"450\" />\n",
    "\n",
    "It shows a more complex decision-making process:\n",
    "\n",
    "* If you have enough money for pizza, you order pizza...\n",
    "* ...otherwise, you cook something at home.\n",
    "\n",
    "To make this kind of decision in JavaScript, you use the combination of `if` and `else`. Here’s how it’s done in code:"
   ]
  },
  {
   "cell_type": "code",
   "execution_count": 6,
   "metadata": {},
   "outputs": [
    {
     "name": "stdout",
     "output_type": "stream",
     "text": [
      "Oh well, we'll just cook something at home.\n"
     ]
    }
   ],
   "source": [
    "money = 7\n",
    "\n",
    "if (money > 10) {\n",
    "    console.log(\"All right! We're ordering pizza!\")\n",
    "} else {\n",
    "    console.log(\"Oh well, we'll just cook something at home.\")\n",
    "}"
   ]
  },
  {
   "cell_type": "markdown",
   "metadata": {},
   "source": [
    "### Multiple outcomes with `if`, `else if`, and `else`\n",
    "\n",
    "Here’s an even fancier flowchart:\n",
    "\n",
    "<img src=\"http://www.globalnerdy.com/wp-content/uploads/2020/10/pizza_3.jpg\" width=\"600\" />\n",
    "                                                                                       \n",
    "It shows an even more complex decision-making process:\n",
    "\n",
    "* If you have lots of money, go to Bern’s and have a steak dinner.\n",
    "* Otherwise, if you don’t have enough money for Bern’s, but *do* have enough money for pizza, order pizza.\n",
    "* Otherwise, cook something at home."
   ]
  },
  {
   "cell_type": "code",
   "execution_count": 7,
   "metadata": {},
   "outputs": [
    {
     "name": "stdout",
     "output_type": "stream",
     "text": [
      "Dress up! We’re going to Bern's!\n"
     ]
    }
   ],
   "source": [
    "money = 110\n",
    "\n",
    "if (money >= 100) {\n",
    "    console.log(\"Dress up! We’re going to Bern's!\")\n",
    "} else if (money < 100 && money > 10) {\n",
    "    console.log(\"Not enough money for steak, but we can afford pizza!\")\n",
    "} else {\n",
    "    console.log(\"Oh well, we'll just cook something at home.\")\n",
    "}"
   ]
  },
  {
   "cell_type": "markdown",
   "metadata": {},
   "source": [
    "### More complex outcomes with nested `if` statements\n",
    "\n",
    "Let’s get even fancier:\n",
    "\n",
    "<img src=\"http://www.globalnerdy.com/wp-content/uploads/2020/10/pizza_4.jpg\" width=\"800\" />\n",
    "\n",
    "The decision-making process gets even more complex by sticking an `if` decision inside another `if` decision:\n",
    "\n",
    "* If you have lots of money, go to Bern’s and have a steak dinner.\n",
    "    * While at Bern’s, if you have room for dessert, have dessert.\n",
    "* Otherwise, if you don’t have enough money for Bern’s, but *do* have enough money for pizza, order pizza.\n",
    "* Otherwise, cook something at home."
   ]
  },
  {
   "cell_type": "code",
   "execution_count": 8,
   "metadata": {},
   "outputs": [
    {
     "name": "stdout",
     "output_type": "stream",
     "text": [
      "Dress up! We’re going to Bern's!\n",
      "...and we're having dessert!\n"
     ]
    }
   ],
   "source": [
    "money = 110\n",
    "let hasRoomForDessert = true\n",
    "\n",
    "if (money >= 100) {\n",
    "    console.log(\"Dress up! We’re going to Bern's!\")\n",
    "    if (hasRoomForDessert) {\n",
    "        console.log(\"...and we're having dessert!\")\n",
    "    }\n",
    "} else if (money < 100 && money > 10) {\n",
    "    console.log(\"Not enough money for steak, but we can afford pizza!\")\n",
    "} else {\n",
    "    console.log(\"Oh well, we'll just cook something at home.\")\n",
    "}"
   ]
  },
  {
   "cell_type": "markdown",
   "metadata": {},
   "source": [
    "## Looping"
   ]
  },
  {
   "cell_type": "markdown",
   "metadata": {},
   "source": [
    "Another key part of programming is doing things repetitively, which is called *looping*. We covered JavaScript’s three looping structures."
   ]
  },
  {
   "cell_type": "markdown",
   "metadata": {},
   "source": [
    "### `while` loops\n",
    "\n",
    "A `while` loop repeats the code inside it as long as the condition at the start of the loop is `true`. We wrote this `while` loop that prints “And so it goes...” five times:"
   ]
  },
  {
   "cell_type": "code",
   "execution_count": 9,
   "metadata": {},
   "outputs": [
    {
     "name": "stdout",
     "output_type": "stream",
     "text": [
      "And so it goes...\n",
      "And so it goes...\n",
      "And so it goes...\n",
      "And so it goes...\n",
      "And so it goes...\n"
     ]
    },
    {
     "data": {
      "text/plain": [
       "5"
      ]
     },
     "execution_count": 9,
     "metadata": {},
     "output_type": "execute_result"
    }
   ],
   "source": [
    "let counter = 0\n",
    "while (counter < 5) {\n",
    "  console.log(\"And so it goes...\")\n",
    "  counter += 1\n",
    "}"
   ]
  },
  {
   "cell_type": "markdown",
   "metadata": {},
   "source": [
    "### `do` - `while` loops\n",
    "\n",
    "A `do` - `while` loop also repeats the code inside it, but the test to see if the condition is `true` happens at the end of the loop. We wrote a `do` - `while` loop similar to this:"
   ]
  },
  {
   "cell_type": "markdown",
   "metadata": {},
   "source": [
    "let bottles = 5\n",
    "\n",
    "do {\n",
    "    console.log(`${bottles} bottles of beer on the wall`)\n",
    "    console.log(`${bottles} bottles of beer.`)\n",
    "    console.log(\"If one of the bottles of beer should happen to fall,\")\n",
    "    bottles -= 1\n",
    "    console.log(`${bottles} bottles of beer on the wall!`)\n",
    "} while (bottles > 0)"
   ]
  },
  {
   "cell_type": "markdown",
   "metadata": {},
   "source": [
    "### `for` loops\n",
    "\n",
    "There’s a more complex (and quite useful) type of loop called the `for` loop. Here’s the `for` loop that we wrote:"
   ]
  },
  {
   "cell_type": "code",
   "execution_count": 11,
   "metadata": {},
   "outputs": [
    {
     "name": "stdout",
     "output_type": "stream",
     "text": [
      "Counting: 1\n",
      "Counting: 2\n",
      "Counting: 3\n",
      "Counting: 4\n",
      "Counting: 5\n"
     ]
    }
   ],
   "source": [
    "for (let value = 1; value <= 5; value += 1) {\n",
    "  console.log(`Counting: ${value}`)\n",
    "}"
   ]
  },
  {
   "cell_type": "markdown",
   "metadata": {},
   "source": [
    "Here’s an explanation of the different parts of the `for` statement:\n",
    "\n",
    "<img src=\"http://www.globalnerdy.com/wp-content/uploads/2020/10/for-loop.jpg\" width=\"800\" />"
   ]
  },
  {
   "cell_type": "code",
   "execution_count": null,
   "metadata": {},
   "outputs": [],
   "source": []
  }
 ],
 "metadata": {
  "kernelspec": {
   "display_name": "Javascript (Node.js)",
   "language": "javascript",
   "name": "javascript"
  },
  "language_info": {
   "file_extension": ".js",
   "mimetype": "application/javascript",
   "name": "javascript",
   "version": "8.10.0"
  }
 },
 "nbformat": 4,
 "nbformat_minor": 4
}
