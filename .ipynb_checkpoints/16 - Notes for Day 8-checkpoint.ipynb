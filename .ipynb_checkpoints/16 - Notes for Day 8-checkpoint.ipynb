{
 "cells": [
  {
   "cell_type": "markdown",
   "metadata": {},
   "source": [
    "# 16: Notes for Day 8\n",
    "\n",
    "## Creating a simple object\n",
    "\n",
    "We looked at some Tampa Bay restaurants in Yelp. One of them was Ella’s, which had this information:\n",
    "\n",
    "* Name: **Ella's**\n",
    "* Rating (on a scale of 1 to 5 stars, with half-stars allowed): **⭐️⭐️⭐️⭐️**\n",
    "* Cost: **$$**\n",
    "* Categories: American (New), Cafes\n",
    "\n",
    "We used the following object to represent Ella’s in JavaScript:"
   ]
  },
  {
   "cell_type": "code",
   "execution_count": 1,
   "metadata": {},
   "outputs": [
    {
     "name": "stdout",
     "output_type": "stream",
     "text": [
      "{ name: 'Ella\\'s',\n",
      "  rating: 4,\n",
      "  cost: 2,\n",
      "  categories: [ 'American (New)', 'Cafes' ] }\n"
     ]
    }
   ],
   "source": [
    "let restaurant1 = {\n",
    "    name: \"Ella's\", \n",
    "    rating: 4, \n",
    "    cost: 2, \n",
    "    categories: [\"American (New)\", \"Cafes\"]\n",
    "}\n",
    "console.log(restaurant1)"
   ]
  },
  {
   "cell_type": "markdown",
   "metadata": {},
   "source": [
    "You could visualize the object like this:\n",
    "\n",
    "![](http://www.globalnerdy.com/wp-content/uploads/2020/10/ellas.jpg)\n",
    "\n",
    "And think of assigning the object to `restaurant1` like this:\n",
    "\n",
    "![](http://www.globalnerdy.com/wp-content/uploads/2020/10/restaurant1.jpg)\n",
    "\n",
    "\n",
    "## An object’s properties\n",
    "\n",
    "As I like to say, objects **know things** and **do things**. Objects can “know” things by storing data inside their own constants and variables. When a constant or variable belongs to an objects, it’s often called a property.\n",
    "\n",
    "Each property has two parts:\n",
    "\n",
    "* **key**: This is the name of the property. In the object we just created, the keys are `name`, `rating`, `cost`, and `categories`.\n",
    "* **value**: This is what’s contained in a property. The values in the object we just created are listed below for each key:\n",
    "    * **`name`**: `\"Ella's\"`\n",
    "    * **`rating`**: `4`\n",
    "    * **`cost`**: `2`\n",
    "    * **`categories`**: `[ \"American (New)\", \"Cafes\" ]`\n",
    "    \n",
    "  \n",
    "\n",
    "\n",
    "Because `restaurant1` points to the object, we can use `restaurant1` to access the object’s properties.\n",
    "\n",
    "There are two ways to access an object’s properties. There’s **dot notation**, shown below:"
   ]
  },
  {
   "cell_type": "code",
   "execution_count": 2,
   "metadata": {},
   "outputs": [
    {
     "name": "stdout",
     "output_type": "stream",
     "text": [
      "Ella's\n"
     ]
    }
   ],
   "source": [
    "console.log(restaurant1.name)"
   ]
  },
  {
   "cell_type": "markdown",
   "metadata": {},
   "source": [
    "The other way is to use **array notation**, shown below. It’s called “array notation” because it’s similar to the way you access elements in an array."
   ]
  },
  {
   "cell_type": "code",
   "execution_count": 3,
   "metadata": {},
   "outputs": [
    {
     "name": "stdout",
     "output_type": "stream",
     "text": [
      "Ella's\n"
     ]
    }
   ],
   "source": [
    "console.log(restaurant1[\"name\"])"
   ]
  },
  {
   "cell_type": "markdown",
   "metadata": {},
   "source": [
    "Note that with dot notation, you don’t put the key in quotes. With array notation, you have to put the key in quotes.\n",
    "\n",
    "Here’s how you change the restaurant’s rating to 3 using dot notation:"
   ]
  },
  {
   "cell_type": "code",
   "execution_count": 4,
   "metadata": {},
   "outputs": [
    {
     "name": "stdout",
     "output_type": "stream",
     "text": [
      "3\n"
     ]
    }
   ],
   "source": [
    "restaurant1.rating = 3\n",
    "console.log(restaurant1.rating)"
   ]
  },
  {
   "cell_type": "markdown",
   "metadata": {},
   "source": [
    "And here’s how you change the restaurant’s rating to 2 using array notation:"
   ]
  },
  {
   "cell_type": "code",
   "execution_count": 6,
   "metadata": {},
   "outputs": [
    {
     "name": "stdout",
     "output_type": "stream",
     "text": [
      "2\n"
     ]
    }
   ],
   "source": [
    "restaurant1[\"rating\"] = 2\n",
    "console.log(restaurant1[\"rating\"])"
   ]
  },
  {
   "cell_type": "markdown",
   "metadata": {},
   "source": [
    "The restaurant’s `categories` property is an array, which allows it to hold more than one item. This is useful, since restaurants can have more than one category.\n",
    "\n",
    "Here’s how you access the entire `categories` array:"
   ]
  },
  {
   "cell_type": "code",
   "execution_count": 7,
   "metadata": {},
   "outputs": [
    {
     "name": "stdout",
     "output_type": "stream",
     "text": [
      "[ 'American (New)', 'Cafes' ]\n"
     ]
    }
   ],
   "source": [
    "console.log(restaurant1.categories)"
   ]
  },
  {
   "cell_type": "raw",
   "metadata": {},
   "source": [
    "To access individual elements of the `categories` array, use array indexes:"
   ]
  },
  {
   "cell_type": "code",
   "execution_count": 8,
   "metadata": {},
   "outputs": [
    {
     "name": "stdout",
     "output_type": "stream",
     "text": [
      "American (New)\n"
     ]
    }
   ],
   "source": [
    "console.log(restaurant1.categories[0])"
   ]
  },
  {
   "cell_type": "markdown",
   "metadata": {},
   "source": [
    "Here’s how you can update the second category:"
   ]
  },
  {
   "cell_type": "code",
   "execution_count": 10,
   "metadata": {},
   "outputs": [
    {
     "name": "stdout",
     "output_type": "stream",
     "text": [
      "Bars\n"
     ]
    }
   ],
   "source": [
    "restaurant1.categories[1] = \"Bars\"\n",
    "console.log(restaurant1.categories[1])"
   ]
  },
  {
   "cell_type": "code",
   "execution_count": null,
   "metadata": {},
   "outputs": [],
   "source": []
  }
 ],
 "metadata": {
  "kernelspec": {
   "display_name": "Javascript (Node.js)",
   "language": "javascript",
   "name": "javascript"
  },
  "language_info": {
   "file_extension": ".js",
   "mimetype": "application/javascript",
   "name": "javascript",
   "version": "8.10.0"
  }
 },
 "nbformat": 4,
 "nbformat_minor": 4
}
