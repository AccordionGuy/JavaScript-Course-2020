{
 "cells": [
  {
   "cell_type": "markdown",
   "metadata": {},
   "source": [
    "# 16: Notes for Day 8\n",
    "\n",
    "## Creating a simple object\n",
    "\n",
    "We looked at some Tampa Bay restaurants in Yelp. One of them was Ella’s, which had this information:\n",
    "\n",
    "* Name: **Ella's**\n",
    "* Rating (on a scale of 1 to 5 stars, with half-stars allowed): **⭐️⭐️⭐️⭐️**\n",
    "* Cost: **$$**\n",
    "* Categories: American (New), Cafes\n",
    "\n",
    "We used the following object to represent Ella’s in JavaScript:"
   ]
  },
  {
   "cell_type": "code",
   "execution_count": 1,
   "metadata": {},
   "outputs": [
    {
     "name": "stdout",
     "output_type": "stream",
     "text": [
      "{ name: 'Ella\\'s',\n",
      "  rating: 4,\n",
      "  cost: 2,\n",
      "  categories: [ 'American (New)', 'Cafes' ] }\n"
     ]
    }
   ],
   "source": [
    "let restaurant1 = {\n",
    "    name: \"Ella's\", \n",
    "    rating: 4, \n",
    "    cost: 2, \n",
    "    categories: [\"American (New)\", \"Cafes\"]\n",
    "}\n",
    "console.log(restaurant1)"
   ]
  },
  {
   "cell_type": "markdown",
   "metadata": {},
   "source": [
    "You could visualize the object like this:\n",
    "\n",
    "![](http://www.globalnerdy.com/wp-content/uploads/2020/10/ellas.jpg)\n",
    "\n",
    "And think of assigning the object to `restaurant1` like this:\n",
    "\n",
    "![](http://www.globalnerdy.com/wp-content/uploads/2020/10/restaurant1.jpg)\n",
    "\n",
    "\n",
    "## An object’s properties\n",
    "\n",
    "As I like to say, objects **know things** and **do things**. Objects can “know” things by storing data inside their own constants and variables. When a constant or variable belongs to an objects, it’s often called a property.\n",
    "\n",
    "Each property has two parts:\n",
    "\n",
    "* **key**: This is the name of the property. In the object we just created, the keys are `name`, `rating`, `cost`, and `categories`.\n",
    "* **value**: This is what’s contained in a property. The values in the object we just created are listed below for each key:\n",
    "    * **`name`**: `\"Ella's\"`\n",
    "    * **`rating`**: `4`\n",
    "    * **`cost`**: `2`\n",
    "    * **`categories`**: `[ \"American (New)\", \"Cafes\" ]`\n",
    "    \n",
    "  \n",
    "\n",
    "\n",
    "Because `restaurant1` points to the object, we can use `restaurant1` to access the object’s properties.\n",
    "\n",
    "There are two ways to access an object’s properties. There’s **dot notation**, shown below:"
   ]
  },
  {
   "cell_type": "code",
   "execution_count": 2,
   "metadata": {},
   "outputs": [
    {
     "name": "stdout",
     "output_type": "stream",
     "text": [
      "Ella's\n"
     ]
    }
   ],
   "source": [
    "console.log(restaurant1.name)"
   ]
  },
  {
   "cell_type": "markdown",
   "metadata": {},
   "source": [
    "The other way is to use **array notation**, shown below. It’s called “array notation” because it’s similar to the way you access elements in an array."
   ]
  },
  {
   "cell_type": "code",
   "execution_count": 3,
   "metadata": {},
   "outputs": [
    {
     "name": "stdout",
     "output_type": "stream",
     "text": [
      "Ella's\n"
     ]
    }
   ],
   "source": [
    "console.log(restaurant1[\"name\"])"
   ]
  },
  {
   "cell_type": "markdown",
   "metadata": {},
   "source": [
    "Note that with dot notation, you don’t put the key in quotes. With array notation, you have to put the key in quotes.\n",
    "\n",
    "Here’s how you change the restaurant’s rating to 3 using dot notation:"
   ]
  },
  {
   "cell_type": "code",
   "execution_count": 4,
   "metadata": {},
   "outputs": [
    {
     "name": "stdout",
     "output_type": "stream",
     "text": [
      "3\n"
     ]
    }
   ],
   "source": [
    "restaurant1.rating = 3\n",
    "console.log(restaurant1.rating)"
   ]
  },
  {
   "cell_type": "markdown",
   "metadata": {},
   "source": [
    "And here’s how you change the restaurant’s rating to 2 using array notation:"
   ]
  },
  {
   "cell_type": "code",
   "execution_count": 6,
   "metadata": {},
   "outputs": [
    {
     "name": "stdout",
     "output_type": "stream",
     "text": [
      "2\n"
     ]
    }
   ],
   "source": [
    "restaurant1[\"rating\"] = 2\n",
    "console.log(restaurant1[\"rating\"])"
   ]
  },
  {
   "cell_type": "markdown",
   "metadata": {},
   "source": [
    "The restaurant’s `categories` property is an array, which allows it to hold more than one item. This is useful, since restaurants can have more than one category.\n",
    "\n",
    "Here’s how you access the entire `categories` array:"
   ]
  },
  {
   "cell_type": "code",
   "execution_count": 7,
   "metadata": {},
   "outputs": [
    {
     "name": "stdout",
     "output_type": "stream",
     "text": [
      "[ 'American (New)', 'Cafes' ]\n"
     ]
    }
   ],
   "source": [
    "console.log(restaurant1.categories)"
   ]
  },
  {
   "cell_type": "raw",
   "metadata": {},
   "source": [
    "To access individual elements of the `categories` array, use array indexes:"
   ]
  },
  {
   "cell_type": "code",
   "execution_count": 8,
   "metadata": {},
   "outputs": [
    {
     "name": "stdout",
     "output_type": "stream",
     "text": [
      "American (New)\n"
     ]
    }
   ],
   "source": [
    "console.log(restaurant1.categories[0])"
   ]
  },
  {
   "cell_type": "markdown",
   "metadata": {},
   "source": [
    "Here’s how you can update the second category:"
   ]
  },
  {
   "cell_type": "code",
   "execution_count": 10,
   "metadata": {},
   "outputs": [
    {
     "name": "stdout",
     "output_type": "stream",
     "text": [
      "Bars\n"
     ]
    }
   ],
   "source": [
    "restaurant1.categories[1] = \"Bars\"\n",
    "console.log(restaurant1.categories[1])"
   ]
  },
  {
   "cell_type": "markdown",
   "metadata": {},
   "source": [
    "## More objects\n",
    "\n",
    "We created a couple more objects:"
   ]
  },
  {
   "cell_type": "code",
   "execution_count": 11,
   "metadata": {},
   "outputs": [],
   "source": [
    "let rooster = {\n",
    "    name: \"Rooster & the Till\", \n",
    "    rating: 5, \n",
    "    cost: 3, \n",
    "    categories: [\"Fancy\", \"Precious\"]\n",
    "}\n",
    "let chicken = {\n",
    "    name: \"King of the Coop\", \n",
    "    rating: 3, \n",
    "    cost: 1, \n",
    "    categories: [\"Chicken\"]\n",
    "}"
   ]
  },
  {
   "cell_type": "markdown",
   "metadata": {},
   "source": [
    "We now have three objects, each on representing a restaurant:\n",
    "\n",
    "![](http://www.globalnerdy.com/wp-content/uploads/2020/10/3-restaurants.jpg)\n",
    "\n",
    "\n",
    "## Putting the objects into an array\n",
    "\n",
    "A site like Yelp organizes individual restaurants into a catalog of restaurants. We’re going to do the same, and make a mini-Yelp, which means that we’ll also have to organize these invidiual restaurants into a catalog.\n",
    "\n",
    "Any time you’re working with a collection of objects of the same or similar type, there’s a good chance you’ll need an array. Let’s put our three restaurants into an array named `restaurants`:"
   ]
  },
  {
   "cell_type": "code",
   "execution_count": 12,
   "metadata": {},
   "outputs": [
    {
     "name": "stdout",
     "output_type": "stream",
     "text": [
      "[ { name: 'Ella\\'s',\n",
      "    rating: 2,\n",
      "    cost: 2,\n",
      "    categories: [ 'American (New)', 'Bars' ] },\n",
      "  { name: 'Rooster & the Till',\n",
      "    rating: 5,\n",
      "    cost: 3,\n",
      "    categories: [ 'Fancy', 'Precious' ] },\n",
      "  { name: 'King of the Coop',\n",
      "    rating: 3,\n",
      "    cost: 1,\n",
      "    categories: [ 'Chicken' ] } ]\n"
     ]
    }
   ],
   "source": [
    "let restaurants = [restaurant1, rooster, chicken]\n",
    "console.log(restaurants)"
   ]
  },
  {
   "cell_type": "markdown",
   "metadata": {},
   "source": [
    "Note that the array *doesn’t* contain the literal values `restaurant1`, `rooster`, and `chicken`. That’s because they’re variables that refer to objects. Listing the contents of the array lists those objects.\n",
    "\n",
    "Here’s a diagram of the objects now:\n",
    "\n",
    "![](http://www.globalnerdy.com/wp-content/uploads/2020/10/array-of-restaurants.jpg)"
   ]
  },
  {
   "cell_type": "markdown",
   "metadata": {},
   "source": [
    "### A quick aside\n",
    "\n",
    "Note that:\n",
    "\n",
    "* `restaurant1` and `restaurants[0]` both refer to the same object,\n",
    "* `rooster` and `restaurants[1]` both refer to the same object, and\n",
    "* `chicken` and `restaurants[2]` both refer to the same object.\n",
    "\n",
    "This will become important later.\n",
    "\n",
    "\n",
    "### Back to objects and properties\n",
    "\n",
    "If we wanted to find the name of the first restaurant in `restaurants`, we’d do it like this:"
   ]
  },
  {
   "cell_type": "code",
   "execution_count": 16,
   "metadata": {},
   "outputs": [
    {
     "name": "stdout",
     "output_type": "stream",
     "text": [
      "Ella's\n"
     ]
    }
   ],
   "source": [
    "console.log(restaurants[0].name)"
   ]
  },
  {
   "cell_type": "markdown",
   "metadata": {},
   "source": [
    "If we wanted to change the rating of the third restaurant to **2**, we’d do it like this:"
   ]
  },
  {
   "cell_type": "code",
   "execution_count": 17,
   "metadata": {},
   "outputs": [
    {
     "name": "stdout",
     "output_type": "stream",
     "text": [
      "{ name: 'King of the Coop',\n",
      "  rating: 2,\n",
      "  cost: 1,\n",
      "  categories: [ 'Chicken' ] }\n"
     ]
    }
   ],
   "source": [
    "restaurants[2].rating = 2\n",
    "console.log(restaurants[2])"
   ]
  },
  {
   "cell_type": "markdown",
   "metadata": {},
   "source": [
    "## Going through the objects in an array, an object at a time\n",
    "\n",
    "Suppose we wanted to do something with each object in the array, one object at a time. That suggests doing something over and over again, which suggests using a loop.\n",
    "\n",
    "One way to go through the objects in an array is to set up a `for` loop like this:"
   ]
  },
  {
   "cell_type": "code",
   "execution_count": 19,
   "metadata": {},
   "outputs": [
    {
     "name": "stdout",
     "output_type": "stream",
     "text": [
      "Here's Ella's:\n",
      "Its rating is 2 and its cost is 2.\n",
      "Here's Rooster & the Till:\n",
      "Its rating is 5 and its cost is 3.\n",
      "Here's King of the Coop:\n",
      "Its rating is 2 and its cost is 1.\n"
     ]
    }
   ],
   "source": [
    "for (let index = 0; index < restaurants.length; index++) {\n",
    "    const restaurant = restaurants[index]\n",
    "    console.log(`Here's ${restaurant.name}:`)\n",
    "    console.log(`Its rating is ${restaurant.rating} and its cost is ${restaurant.cost}.`)\n",
    "}"
   ]
  },
  {
   "cell_type": "markdown",
   "metadata": {},
   "source": [
    "There’s another kind of `for` loop that doesn’t require you to set up an index variable — it’s a `for...of` loop. It looks like this:"
   ]
  },
  {
   "cell_type": "code",
   "execution_count": 20,
   "metadata": {},
   "outputs": [
    {
     "name": "stdout",
     "output_type": "stream",
     "text": [
      "Here's Ella's:\n",
      "Its rating is 2 and its cost is 2.\n",
      "Here's Rooster & the Till:\n",
      "Its rating is 5 and its cost is 3.\n",
      "Here's King of the Coop:\n",
      "Its rating is 2 and its cost is 1.\n"
     ]
    }
   ],
   "source": [
    "for (const restaurant of restaurants) {\n",
    "    console.log(`Here's ${restaurant.name}:`)\n",
    "    console.log(`Its rating is ${restaurant.rating} and its cost is ${restaurant.cost}.`)\n",
    "}"
   ]
  },
  {
   "cell_type": "markdown",
   "metadata": {},
   "source": [
    "In this case, the `for...of` loop does the same thing, but with less code and without you having to create an index variable."
   ]
  },
  {
   "cell_type": "markdown",
   "metadata": {},
   "source": [
    "### Finding a restaurant by name\n",
    "\n",
    "Suppose we wanted to retrieve a specific restaurant object by name. We could do it by going through the array of restaurants, checking each name for a match. \n",
    "\n",
    "This sounds like something we’d probably do often, which suggests that we should make it a function. What it does is something repetitive, which suggests using a loop.\n",
    "\n",
    "We could write this function:"
   ]
  },
  {
   "cell_type": "code",
   "execution_count": 21,
   "metadata": {},
   "outputs": [],
   "source": [
    "function getRestaurantByName(searchName) {\n",
    "    for (const restaurant of restaurants) {\n",
    "        if (restaurant.name == searchName) {\n",
    "            return restaurant\n",
    "        }\n",
    "    }\n",
    "    return null\n",
    "}"
   ]
  },
  {
   "cell_type": "markdown",
   "metadata": {},
   "source": [
    "In case you were wondering, `null` is a built-in value in JavaScript. It means “no value”, and we’re using it in the `getRestaurantByName()` function to represent the lack of a result. This happens when the we search for a name that doesn’t exist in our list of restaurants.\n",
    "\n",
    "Let’s put that function to use. Let’s retrieve the restaurant named “King of the Coop”:"
   ]
  },
  {
   "cell_type": "code",
   "execution_count": 22,
   "metadata": {},
   "outputs": [
    {
     "name": "stdout",
     "output_type": "stream",
     "text": [
      "{ name: 'King of the Coop',\n",
      "  rating: 2,\n",
      "  cost: 1,\n",
      "  categories: [ 'Chicken' ] }\n"
     ]
    }
   ],
   "source": [
    "console.log(getRestaurantByName(\"King of the Coop\"))"
   ]
  },
  {
   "cell_type": "markdown",
   "metadata": {},
   "source": [
    "What happens if we try to get a restaurant by a non-existent name?"
   ]
  },
  {
   "cell_type": "code",
   "execution_count": 23,
   "metadata": {},
   "outputs": [
    {
     "name": "stdout",
     "output_type": "stream",
     "text": [
      "null\n"
     ]
    }
   ],
   "source": [
    "console.log(getRestaurantByName(\"Burger King\"))"
   ]
  },
  {
   "cell_type": "markdown",
   "metadata": {},
   "source": [
    "### Making the same change to every restaurant in the list\n",
    "\n",
    "Suppose we wanted to increase the `cost` property of every restaurant in the list by 1. \n",
    "\n",
    "This sounds like something that should be generalized into a function that lets you provide a number, and the function then changes the cost of every restaurant in the list by that number. We can even write the function in a way that allows us to either *increase* or *decrease* the cost.\n",
    "\n",
    "Once again, this is a repetitive process, which suggests that we should use a loop.\n",
    "\n",
    "Here’s a function that does just that:"
   ]
  },
  {
   "cell_type": "code",
   "execution_count": 25,
   "metadata": {},
   "outputs": [],
   "source": [
    "function changeCost(changeAmount) {\n",
    "    for (const restaurant of restaurants) {\n",
    "        restaurant.cost += changeAmount\n",
    "    }\n",
    "}"
   ]
  },
  {
   "cell_type": "markdown",
   "metadata": {},
   "source": [
    "Let’s use `changeCost()` to increase the `cost` property of all restaurants by 1:"
   ]
  },
  {
   "cell_type": "code",
   "execution_count": 27,
   "metadata": {},
   "outputs": [
    {
     "name": "stdout",
     "output_type": "stream",
     "text": [
      "Before the change:\n",
      "[ { name: 'Ella\\'s',\n",
      "    rating: 2,\n",
      "    cost: 3,\n",
      "    categories: [ 'American (New)', 'Bars' ] },\n",
      "  { name: 'Rooster & the Till',\n",
      "    rating: 5,\n",
      "    cost: 4,\n",
      "    categories: [ 'Fancy', 'Precious' ] },\n",
      "  { name: 'King of the Coop',\n",
      "    rating: 2,\n",
      "    cost: 2,\n",
      "    categories: [ 'Chicken' ] } ]\n",
      "After the change:\n",
      "[ { name: 'Ella\\'s',\n",
      "    rating: 2,\n",
      "    cost: 4,\n",
      "    categories: [ 'American (New)', 'Bars' ] },\n",
      "  { name: 'Rooster & the Till',\n",
      "    rating: 5,\n",
      "    cost: 5,\n",
      "    categories: [ 'Fancy', 'Precious' ] },\n",
      "  { name: 'King of the Coop',\n",
      "    rating: 2,\n",
      "    cost: 3,\n",
      "    categories: [ 'Chicken' ] } ]\n"
     ]
    }
   ],
   "source": [
    "console.log(\"Before the increase:\")\n",
    "console.log(restaurants)\n",
    "changeCost(1)\n",
    "console.log(\"After the increase:\")\n",
    "console.log(restaurants)"
   ]
  },
  {
   "cell_type": "markdown",
   "metadata": {},
   "source": [
    "We can also use `changeCost()` to descrease the cost, simply by providing it with a negative number:"
   ]
  },
  {
   "cell_type": "code",
   "execution_count": 30,
   "metadata": {},
   "outputs": [
    {
     "name": "stdout",
     "output_type": "stream",
     "text": [
      "Before the decrease:\n",
      "[ { name: 'Ella\\'s',\n",
      "    rating: 2,\n",
      "    cost: 4,\n",
      "    categories: [ 'American (New)', 'Bars' ] },\n",
      "  { name: 'Rooster & the Till',\n",
      "    rating: 5,\n",
      "    cost: 5,\n",
      "    categories: [ 'Fancy', 'Precious' ] },\n",
      "  { name: 'King of the Coop',\n",
      "    rating: 2,\n",
      "    cost: 3,\n",
      "    categories: [ 'Chicken' ] } ]\n",
      "After the decrease:\n",
      "[ { name: 'Ella\\'s',\n",
      "    rating: 2,\n",
      "    cost: 3,\n",
      "    categories: [ 'American (New)', 'Bars' ] },\n",
      "  { name: 'Rooster & the Till',\n",
      "    rating: 5,\n",
      "    cost: 4,\n",
      "    categories: [ 'Fancy', 'Precious' ] },\n",
      "  { name: 'King of the Coop',\n",
      "    rating: 2,\n",
      "    cost: 2,\n",
      "    categories: [ 'Chicken' ] } ]\n"
     ]
    }
   ],
   "source": [
    "console.log(\"Before the decrease:\")\n",
    "console.log(restaurants)\n",
    "changeCost(-1)\n",
    "console.log(\"After the decrease:\")\n",
    "console.log(restaurants)"
   ]
  },
  {
   "cell_type": "code",
   "execution_count": null,
   "metadata": {},
   "outputs": [],
   "source": []
  }
 ],
 "metadata": {
  "kernelspec": {
   "display_name": "Javascript (Node.js)",
   "language": "javascript",
   "name": "javascript"
  },
  "language_info": {
   "file_extension": ".js",
   "mimetype": "application/javascript",
   "name": "javascript",
   "version": "8.10.0"
  }
 },
 "nbformat": 4,
 "nbformat_minor": 4
}
