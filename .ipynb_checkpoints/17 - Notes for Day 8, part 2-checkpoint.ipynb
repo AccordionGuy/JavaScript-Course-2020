{
 "cells": [
  {
   "cell_type": "markdown",
   "metadata": {},
   "source": [
    "# 17: Notes for Day 8, part 2\n",
    "\n",
    "## Higher-order functions don’t have to be so confusing\n",
    "\n",
    "![](http://www.globalnerdy.com/wp-content/uploads/2020/10/weresquirrel.jpg)\n",
    "\n",
    "If you tried to read [the *Eloquent JavaScript* chapter on higher-order functions](https://eloquentjavascript.net/05_higher_order.html) — the one with the “weresquirrel” story — and got confused, this set of notes is for you.\n",
    "\n",
    "Let’s take a step back and look at **first-order functions**, which are just functions as you know them.\n",
    "\n",
    "\n",
    "## First-order functions (or, as you might call them, regular functions)\n",
    "\n",
    "First-order functions are functions that:\n",
    "\n",
    "* Either don’t take in a value as an argument (an argument is a value that you provide to a function), or take in one or more values as an argument.\n",
    "* Either don’t return a value, or return a single value.\n",
    "\n",
    "Here’s a first-order function that doesn’t take an argument and doesn’t return a value:"
   ]
  },
  {
   "cell_type": "code",
   "execution_count": 1,
   "metadata": {},
   "outputs": [
    {
     "name": "stdout",
     "output_type": "stream",
     "text": [
      "Hello!\n"
     ]
    }
   ],
   "source": [
    "function sayHello() {\n",
    "    console.log(\"Hello!\")\n",
    "}\n",
    "\n",
    "sayHello()"
   ]
  },
  {
   "cell_type": "markdown",
   "metadata": {},
   "source": [
    "`Math.random()` is a built-in first-order function. It doesn’t take an argument, but it returns a value: a random number between 0 and 1:"
   ]
  },
  {
   "cell_type": "code",
   "execution_count": 2,
   "metadata": {},
   "outputs": [
    {
     "name": "stdout",
     "output_type": "stream",
     "text": [
      "0.24675308481808678\n"
     ]
    }
   ],
   "source": [
    "console.log(Math.random())"
   ]
  },
  {
   "cell_type": "markdown",
   "metadata": {},
   "source": [
    "`console.log()` is a built-in first-order function. It takes an argument, but it doesn’t return a value. The fact that it outputs text to the console is a side effect, not a value it returns."
   ]
  },
  {
   "cell_type": "code",
   "execution_count": 3,
   "metadata": {},
   "outputs": [
    {
     "name": "stdout",
     "output_type": "stream",
     "text": [
      "x will be undefined.\n",
      "undefined\n"
     ]
    }
   ],
   "source": [
    "let x = console.log(\"x will be undefined.\")\n",
    "console.log(x)"
   ]
  },
  {
   "cell_type": "markdown",
   "metadata": {},
   "source": [
    "`Math.max()` is a built-in first-order function. It takes any number of arguments and returns the argument with the largest (maximum, which is why it’s called `max`) value."
   ]
  },
  {
   "cell_type": "code",
   "execution_count": 4,
   "metadata": {},
   "outputs": [
    {
     "name": "stdout",
     "output_type": "stream",
     "text": [
      "99\n"
     ]
    }
   ],
   "source": [
    "console.log(Math.max(67, 8, 99, 12, 34))"
   ]
  },
  {
   "cell_type": "markdown",
   "metadata": {},
   "source": [
    "## Higher-order functions\n",
    "\n",
    "Higher-order functions are functions that:\n",
    "\n",
    "* Take one or more **functions** as an argument, or\n",
    "* Return a **function**.\n",
    "\n",
    "Let’s try a simple example. First, let’s define a function that calculates Florida sales tax, which is 6% at the time I’m writing this:"
   ]
  },
  {
   "cell_type": "code",
   "execution_count": 5,
   "metadata": {},
   "outputs": [
    {
     "name": "stdout",
     "output_type": "stream",
     "text": [
      "Florida sales tax on a $1.00 item is: 0.06.\n"
     ]
    }
   ],
   "source": [
    "function floridaSalesTax(price) {\n",
    "    return price * 0.06\n",
    "}\n",
    "\n",
    "console.log(`Florida sales tax on a $1.00 item is: ${floridaSalesTax(1)}.`)"
   ]
  },
  {
   "cell_type": "markdown",
   "metadata": {},
   "source": [
    "Then, let’s define a function that calculates Georgia sales tax, which is 4% in most parts of Georgia:"
   ]
  },
  {
   "cell_type": "code",
   "execution_count": 6,
   "metadata": {},
   "outputs": [
    {
     "name": "stdout",
     "output_type": "stream",
     "text": [
      "Georgia sales tax on a $1.00 item is: 0.04.\n"
     ]
    }
   ],
   "source": [
    "function georgiaSalesTax(price) {\n",
    "    return price * 0.04\n",
    "}\n",
    "\n",
    "console.log(`Georgia sales tax on a $1.00 item is: ${georgiaSalesTax(1)}.`)"
   ]
  },
  {
   "cell_type": "markdown",
   "metadata": {},
   "source": [
    "We can now write a function that’s flexible enough to calculate the sales tax in multiple states, which is the sort of thing that ecommerce apps do all the time. This function takes two arguments:\n",
    "\n",
    "* The price of the item\n",
    "* A function that calculates sales tax\n",
    "\n",
    "Here’s the function:"
   ]
  },
  {
   "cell_type": "code",
   "execution_count": 7,
   "metadata": {},
   "outputs": [],
   "source": [
    "function calculateSalesTax(price, stateSalesTaxFunction) {\n",
    "    return stateSalesTaxFunction(price)\n",
    "}"
   ]
  },
  {
   "cell_type": "markdown",
   "metadata": {},
   "source": [
    "Let’s try out `calculateSalesTax()` on an item priced at $9.99 and purchased in Florida:"
   ]
  },
  {
   "cell_type": "code",
   "execution_count": 8,
   "metadata": {},
   "outputs": [
    {
     "name": "stdout",
     "output_type": "stream",
     "text": [
      "0.5994\n"
     ]
    }
   ],
   "source": [
    "console.log(calculateSalesTax(9.99, floridaSalesTax))"
   ]
  },
  {
   "cell_type": "markdown",
   "metadata": {},
   "source": [
    "Let’s take a closer look at what just happened.\n",
    "\n",
    "We called `calculateSalesTax()` by providing it with two arguments:\n",
    "\n",
    "* `price`, which we set to 9.99, which is a value.\n",
    "* `stateSalesTaxFunction`, which we set to `floridaSalesTax`, which is the name of a function.\n",
    "\n",
    "`calculateSalesTax()` takes the function contained within `stateSalesTaxFunction()`, which is `floridaSalesTax()`, and calls it, using `price` — which contains **9.99** as its argument. It’s effectively making this function call:\n",
    "\n",
    "```\n",
    "floridaSalesTax(9.99)\n",
    "```\n",
    "\n",
    "Let’s try `calculateSalesTax()` on an item priced at $9.99 again, but this time treating the purchase as being made in Georgia:"
   ]
  },
  {
   "cell_type": "code",
   "execution_count": 9,
   "metadata": {},
   "outputs": [
    {
     "name": "stdout",
     "output_type": "stream",
     "text": [
      "0.3996\n"
     ]
    }
   ],
   "source": [
    "console.log(calculateSalesTax(9.99, georgiaSalesTax))"
   ]
  },
  {
   "cell_type": "markdown",
   "metadata": {},
   "source": [
    "This time, `calculateSalesTax()` uses `georgiaSalesTax()` to calculate the sales tax on the price."
   ]
  },
  {
   "cell_type": "markdown",
   "metadata": {},
   "source": [
    "By coding `calculateSalesTax()` this way, we get all sorts of flexibility. Whenever we have to support a new state’s sales tax, we simply define a function to calculate it, and then provide it to `calculateSalesTax()`. We don’t have to make changes to `calculateSalesTax()` at all."
   ]
  },
  {
   "cell_type": "markdown",
   "metadata": {},
   "source": [
    "## Arrays, objects, properties, and methods\n",
    "\n",
    "Arrays are objects. As I’ve mentioned earlier, objects have these two important qualities:\n",
    "\n",
    "* They **know things** by storing data in their properties.\n",
    "* They **do things** by using functions that have been added to them.\n",
    "\n",
    "There’s a name for functions that belong to an object: **methods**.\n",
    "\n",
    "Much of the time, an object’s methods perform some kind of operation using that object’s properties.\n",
    "\n",
    "\n",
    "## Array methods that are higher-order functions\n",
    "\n",
    "Arrays are often used to hold collections of similar objects, and there are many occasions where you want to perform some kind of operation or calculation on the objects in an array. This is where higher-order functions become very useful.\n",
    "\n",
    "In order to show these array methods in action, we’ll first need to define an array that we can work with. We’ll make this an array of objects that represent restaurants in a Yelp-like web application:"
   ]
  },
  {
   "cell_type": "code",
   "execution_count": 10,
   "metadata": {},
   "outputs": [
    {
     "data": {
      "text/plain": [
       "[ { name: 'Ella\\'s',\n",
       "    rating: 4,\n",
       "    cost: 2,\n",
       "    categories: [ 'American (New)', 'Cafes' ] },\n",
       "  { name: 'Jimbo\\'s No-Effort Kitchen',\n",
       "    rating: 2,\n",
       "    cost: 1,\n",
       "    categories: [ 'Greasy Spoons', 'Diners' ] },\n",
       "  { name: 'Wicked Oak Barbeque',\n",
       "    rating: 4.5,\n",
       "    cost: 1,\n",
       "    categories: [ 'Barbecue' ] },\n",
       "  { name: 'Fake Chinese Food',\n",
       "    rating: 1,\n",
       "    cost: 1,\n",
       "    categories: [ 'Chinese' ] },\n",
       "  { name: 'King of the Coop',\n",
       "    rating: 4.5,\n",
       "    cost: 2,\n",
       "    categories: [ 'Southern', 'Chicken Shop', 'Sandwiches' ] },\n",
       "  { name: '7th + Grove',\n",
       "    rating: 4,\n",
       "    cost: 2,\n",
       "    categories: [ 'Southern' ] },\n",
       "  { name: 'One Star Sandwiches',\n",
       "    rating: 1,\n",
       "    cost: 2,\n",
       "    categories: [ 'Sandwiches' ] },\n",
       "  { name: 'One Star Sandwiches',\n",
       "    rating: 1,\n",
       "    cost: 2,\n",
       "    categories: [ 'Sandwiches' ] },\n",
       "  { name: 'Pisco Restaurant and Bar',\n",
       "    rating: 3,\n",
       "    cost: 2,\n",
       "    categories: [ 'Peruvian', 'Sports Bars' ] },\n",
       "  { name: 'Punch You in the Face Tavern',\n",
       "    rating: 1,\n",
       "    cost: 1,\n",
       "    categories: [ 'Dive Bars', 'Sports Bars' ] },\n",
       "  { name: 'Rooster & the Till',\n",
       "    rating: 4.5,\n",
       "    cost: 3,\n",
       "    categories: [ 'American (New)' ] } ]"
      ]
     },
     "execution_count": 10,
     "metadata": {},
     "output_type": "execute_result"
    }
   ],
   "source": [
    "restaurants = [\n",
    "    {\n",
    "        name: \"Ella's\",\n",
    "        rating: 4,\n",
    "        cost: 2,\n",
    "        categories: [\"American (New)\", \"Cafes\"]\n",
    "    },\n",
    "    {\n",
    "        name: \"Jimbo's No-Effort Kitchen\",\n",
    "        rating: 2,\n",
    "        cost: 1,\n",
    "        categories: [\"Greasy Spoons\", \"Diners\"]\n",
    "    },\n",
    "    {\n",
    "        name: \"Wicked Oak Barbeque\",\n",
    "        rating: 4.5,\n",
    "        cost: 1,\n",
    "        categories: [\"Barbecue\"]\n",
    "    },\n",
    "    {\n",
    "        name: \"Fake Chinese Food\",\n",
    "        rating: 1,\n",
    "        cost: 1,\n",
    "        categories: [\"Chinese\"]\n",
    "    },\n",
    "    {\n",
    "        name: \"King of the Coop\",\n",
    "        rating: 4.5,\n",
    "        cost: 2,\n",
    "        categories: [\"Southern\", \"Chicken Shop\", \"Sandwiches\"]\n",
    "    },\n",
    "    {\n",
    "        name: \"7th + Grove\",\n",
    "        rating: 4,\n",
    "        cost: 2,\n",
    "        categories: [\"Southern\"]\n",
    "    },\n",
    "    {\n",
    "        name: \"One Star Sandwiches\",\n",
    "        rating: 1,\n",
    "        cost: 2,\n",
    "        categories: [\"Sandwiches\"]\n",
    "    },\n",
    "    {\n",
    "        name: \"One Star Sandwiches\",\n",
    "        rating: 1,\n",
    "        cost: 2,\n",
    "        categories: [\"Sandwiches\"]\n",
    "    },\n",
    "    {\n",
    "        name: \"Pisco Restaurant and Bar\",\n",
    "        rating: 3,\n",
    "        cost: 2,\n",
    "        categories: [\"Peruvian\", \"Sports Bars\"]\n",
    "    },\n",
    "    {\n",
    "        name: \"Punch You in the Face Tavern\",\n",
    "        rating: 1,\n",
    "        cost: 1,\n",
    "        categories: [\"Dive Bars\", \"Sports Bars\"]\n",
    "    },\n",
    "    {\n",
    "        name: \"Rooster & the Till\",\n",
    "        rating: 4.5,\n",
    "        cost: 3,\n",
    "        categories: [\"American (New)\"]\n",
    "    },\n",
    "]"
   ]
  },
  {
   "cell_type": "markdown",
   "metadata": {},
   "source": [
    "### Filtering an array with `filter()`\n",
    "\n",
    "Suppose I want a list of only the restaurants with ratings of 4 or higher. We can use the `filter()` method to do that.\n",
    "\n",
    "First, we’ll define a method that takes a restaurant object as an argument and returns `true` if its `ratings` property is 4 or greater:"
   ]
  },
  {
   "cell_type": "code",
   "execution_count": 11,
   "metadata": {},
   "outputs": [],
   "source": [
    "function rating4OrMore(restaurant) {\n",
    "    return restaurant.rating >= 4\n",
    "}"
   ]
  },
  {
   "cell_type": "markdown",
   "metadata": {},
   "source": [
    "Now that we have that function, we can use it and the `filter()` method built into arrays:"
   ]
  },
  {
   "cell_type": "code",
   "execution_count": 12,
   "metadata": {},
   "outputs": [
    {
     "name": "stdout",
     "output_type": "stream",
     "text": [
      "[ { name: 'Ella\\'s',\n",
      "    rating: 4,\n",
      "    cost: 2,\n",
      "    categories: [ 'American (New)', 'Cafes' ] },\n",
      "  { name: 'Wicked Oak Barbeque',\n",
      "    rating: 4.5,\n",
      "    cost: 1,\n",
      "    categories: [ 'Barbecue' ] },\n",
      "  { name: 'King of the Coop',\n",
      "    rating: 4.5,\n",
      "    cost: 2,\n",
      "    categories: [ 'Southern', 'Chicken Shop', 'Sandwiches' ] },\n",
      "  { name: '7th + Grove',\n",
      "    rating: 4,\n",
      "    cost: 2,\n",
      "    categories: [ 'Southern' ] },\n",
      "  { name: 'Rooster & the Till',\n",
      "    rating: 4.5,\n",
      "    cost: 3,\n",
      "    categories: [ 'American (New)' ] } ]\n"
     ]
    }
   ],
   "source": [
    "let highlyRatedRestaurants = restaurants.filter(rating4OrMore)\n",
    "console.log(highlyRatedRestaurants)"
   ]
  },
  {
   "cell_type": "markdown",
   "metadata": {},
   "source": [
    "Let’s try a more complex filter. Suppose we want a list of restaurants that have **Sandwiches** as one of their categories.\n",
    "\n",
    "First, we’ll define a method that takes a restaurant object as an argument and returns `true` if it has **Sandwiches** as one of the elements in its `categories` property:"
   ]
  },
  {
   "cell_type": "code",
   "execution_count": 13,
   "metadata": {},
   "outputs": [],
   "source": [
    "function isSandwichRestaurant(restaurant) {\n",
    "    return restaurant.categories.includes(\"Sandwiches\")\n",
    "}"
   ]
  },
  {
   "cell_type": "markdown",
   "metadata": {},
   "source": [
    "Now that we have that function, we can use it and the `filter()` method:"
   ]
  },
  {
   "cell_type": "code",
   "execution_count": 14,
   "metadata": {},
   "outputs": [
    {
     "name": "stdout",
     "output_type": "stream",
     "text": [
      "[ { name: 'King of the Coop',\n",
      "    rating: 4.5,\n",
      "    cost: 2,\n",
      "    categories: [ 'Southern', 'Chicken Shop', 'Sandwiches' ] },\n",
      "  { name: 'One Star Sandwiches',\n",
      "    rating: 1,\n",
      "    cost: 2,\n",
      "    categories: [ 'Sandwiches' ] },\n",
      "  { name: 'One Star Sandwiches',\n",
      "    rating: 1,\n",
      "    cost: 2,\n",
      "    categories: [ 'Sandwiches' ] } ]\n"
     ]
    }
   ],
   "source": [
    "let sandwichPlaces = restaurants.filter(isSandwichRestaurant)\n",
    "console.log(sandwichPlaces)"
   ]
  },
  {
   "cell_type": "markdown",
   "metadata": {},
   "source": [
    "## Arrow functions\n",
    "\n",
    "**Arrow functions** are a compact alternative way to define functions. They can’t be used in all situations, but they’re quite handy for functions that you want to pass as arguments.\n",
    "\n",
    "Let’s look at a classic function definition:"
   ]
  },
  {
   "cell_type": "code",
   "execution_count": 15,
   "metadata": {},
   "outputs": [
    {
     "name": "stdout",
     "output_type": "stream",
     "text": [
      "3\n"
     ]
    }
   ],
   "source": [
    "function addOne(number) {\n",
    "    return number + 1\n",
    "}\n",
    "\n",
    "console.log(addOne(2))"
   ]
  },
  {
   "cell_type": "markdown",
   "metadata": {},
   "source": [
    "Functions don’t have to have names. Here’s the `addOne()` function, but without a name — this is called an **anonymous function** — and we’re putting it into a variable:"
   ]
  },
  {
   "cell_type": "code",
   "execution_count": 16,
   "metadata": {},
   "outputs": [
    {
     "name": "stdout",
     "output_type": "stream",
     "text": [
      "3\n"
     ]
    }
   ],
   "source": [
    "let add1 = function(number) {\n",
    "    return number + 1\n",
    "}\n",
    "\n",
    "console.log(add1(2))"
   ]
  },
  {
   "cell_type": "markdown",
   "metadata": {},
   "source": [
    "We can remove the `function` keyword and then put an “arrow” — `=>` — between the argument and the opening curly bracket:"
   ]
  },
  {
   "cell_type": "code",
   "execution_count": 17,
   "metadata": {},
   "outputs": [
    {
     "name": "stdout",
     "output_type": "stream",
     "text": [
      "3\n"
     ]
    }
   ],
   "source": [
    "add1 = (number) => {\n",
    "    return number + 1\n",
    "}\n",
    "\n",
    "console.log(add1(2))"
   ]
  },
  {
   "cell_type": "markdown",
   "metadata": {},
   "source": [
    "We can even remove the curly brackets, and the `return`, which is implied:"
   ]
  },
  {
   "cell_type": "code",
   "execution_count": 18,
   "metadata": {},
   "outputs": [
    {
     "name": "stdout",
     "output_type": "stream",
     "text": [
      "3\n"
     ]
    }
   ],
   "source": [
    "add1 = (number) => number + 1\n",
    "\n",
    "console.log(add1(2))"
   ]
  },
  {
   "cell_type": "markdown",
   "metadata": {},
   "source": [
    "And finally, let’s remove the parentheses around the argument:"
   ]
  },
  {
   "cell_type": "code",
   "execution_count": 19,
   "metadata": {},
   "outputs": [
    {
     "name": "stdout",
     "output_type": "stream",
     "text": [
      "3\n"
     ]
    }
   ],
   "source": [
    "add1 = number => number + 1\n",
    "\n",
    "console.log(add1(2))"
   ]
  },
  {
   "cell_type": "markdown",
   "metadata": {},
   "source": [
    "### Let’s make an arrow function for restaurants with a rating of 4 or higher\n",
    "\n",
    "Let’s look at the `rating4OrMore` function we defined earlier:\n",
    "\n",
    "```\n",
    "function rating4OrMore(restaurant) {\n",
    "    return restaurant.rating >= 4\n",
    "}\n",
    "```\n",
    "\n",
    "Let’s start transforming it. First, let’s remove the name:\n",
    "\n",
    "```\n",
    "function(restaurant) {\n",
    "    return restaurant.rating >= 4\n",
    "}\n",
    "```\n",
    "\n",
    "Then let’s remove the keyword `function` and place an arrow (`=>`) between the argument and the opening curly bracket:\n",
    "\n",
    "```\n",
    "(restaurant) => {\n",
    "    return restaurant.rating >= 4\n",
    "}\n",
    "```\n",
    "\n",
    "Then remove the curly brackets and the keyword `return`:\n",
    "\n",
    "```\n",
    "(restaurant) => restaurant.rating >= 4\n",
    "```\n",
    "\n",
    "And finally, let’s remove the parentheses around the argument:\n",
    "\n",
    "```\n",
    "restaurant => restaurant.rating >= 4\n",
    "```\n",
    "\n",
    "Let’s try using the resulting arrow function with `filter` to get a list of restaurants with a rating of 4 or higher:"
   ]
  },
  {
   "cell_type": "code",
   "execution_count": 20,
   "metadata": {},
   "outputs": [
    {
     "name": "stdout",
     "output_type": "stream",
     "text": [
      "[ { name: 'Ella\\'s',\n",
      "    rating: 4,\n",
      "    cost: 2,\n",
      "    categories: [ 'American (New)', 'Cafes' ] },\n",
      "  { name: 'Wicked Oak Barbeque',\n",
      "    rating: 4.5,\n",
      "    cost: 1,\n",
      "    categories: [ 'Barbecue' ] },\n",
      "  { name: 'King of the Coop',\n",
      "    rating: 4.5,\n",
      "    cost: 2,\n",
      "    categories: [ 'Southern', 'Chicken Shop', 'Sandwiches' ] },\n",
      "  { name: '7th + Grove',\n",
      "    rating: 4,\n",
      "    cost: 2,\n",
      "    categories: [ 'Southern' ] },\n",
      "  { name: 'Rooster & the Till',\n",
      "    rating: 4.5,\n",
      "    cost: 3,\n",
      "    categories: [ 'American (New)' ] } ]\n"
     ]
    }
   ],
   "source": [
    "console.log(restaurants.filter(restaurant => restaurant.rating >= 4))"
   ]
  },
  {
   "cell_type": "markdown",
   "metadata": {},
   "source": [
    "### Another arrow function to pick out the cheap places\n",
    "\n",
    "Here’s an arrow function used in conjunction with the array `filter()` method to get an array of restaurants that have a `cost` of 2 or less:"
   ]
  },
  {
   "cell_type": "code",
   "execution_count": 21,
   "metadata": {},
   "outputs": [
    {
     "name": "stdout",
     "output_type": "stream",
     "text": [
      "[ { name: 'Ella\\'s',\n",
      "    rating: 4,\n",
      "    cost: 2,\n",
      "    categories: [ 'American (New)', 'Cafes' ] },\n",
      "  { name: 'Jimbo\\'s No-Effort Kitchen',\n",
      "    rating: 2,\n",
      "    cost: 1,\n",
      "    categories: [ 'Greasy Spoons', 'Diners' ] },\n",
      "  { name: 'Wicked Oak Barbeque',\n",
      "    rating: 4.5,\n",
      "    cost: 1,\n",
      "    categories: [ 'Barbecue' ] },\n",
      "  { name: 'Fake Chinese Food',\n",
      "    rating: 1,\n",
      "    cost: 1,\n",
      "    categories: [ 'Chinese' ] },\n",
      "  { name: 'King of the Coop',\n",
      "    rating: 4.5,\n",
      "    cost: 2,\n",
      "    categories: [ 'Southern', 'Chicken Shop', 'Sandwiches' ] },\n",
      "  { name: '7th + Grove',\n",
      "    rating: 4,\n",
      "    cost: 2,\n",
      "    categories: [ 'Southern' ] },\n",
      "  { name: 'One Star Sandwiches',\n",
      "    rating: 1,\n",
      "    cost: 2,\n",
      "    categories: [ 'Sandwiches' ] },\n",
      "  { name: 'One Star Sandwiches',\n",
      "    rating: 1,\n",
      "    cost: 2,\n",
      "    categories: [ 'Sandwiches' ] },\n",
      "  { name: 'Pisco Restaurant and Bar',\n",
      "    rating: 3,\n",
      "    cost: 2,\n",
      "    categories: [ 'Peruvian', 'Sports Bars' ] },\n",
      "  { name: 'Punch You in the Face Tavern',\n",
      "    rating: 1,\n",
      "    cost: 1,\n",
      "    categories: [ 'Dive Bars', 'Sports Bars' ] } ]\n"
     ]
    }
   ],
   "source": [
    "console.log(restaurants.filter(restaurant => restaurant.cost <= 2))"
   ]
  },
  {
   "cell_type": "markdown",
   "metadata": {},
   "source": [
    "### The `find()` array method\n",
    "\n",
    "`find()` is another higher-order function that’s built into arrays. You can use it to find the first element in the array that meets the criteria in a function that you pass to it.\n",
    "\n",
    "For example, we can use it to find a restaurant by name. Suppose we want to retrieve the restaurant with the name **One Star Sandwiches**. Here’s how we’d use the `find()` method to do it:"
   ]
  },
  {
   "cell_type": "code",
   "execution_count": 22,
   "metadata": {},
   "outputs": [
    {
     "name": "stdout",
     "output_type": "stream",
     "text": [
      "{ name: 'One Star Sandwiches',\n",
      "  rating: 1,\n",
      "  cost: 2,\n",
      "  categories: [ 'Sandwiches' ] }\n"
     ]
    }
   ],
   "source": [
    "let result = restaurants.find(restaurant => restaurant.name == \"One Star Sandwiches\")\n",
    "console.log(result)"
   ]
  },
  {
   "cell_type": "code",
   "execution_count": null,
   "metadata": {},
   "outputs": [],
   "source": []
  }
 ],
 "metadata": {
  "kernelspec": {
   "display_name": "Javascript (Node.js)",
   "language": "javascript",
   "name": "javascript"
  },
  "language_info": {
   "file_extension": ".js",
   "mimetype": "application/javascript",
   "name": "javascript",
   "version": "8.10.0"
  }
 },
 "nbformat": 4,
 "nbformat_minor": 4
}
