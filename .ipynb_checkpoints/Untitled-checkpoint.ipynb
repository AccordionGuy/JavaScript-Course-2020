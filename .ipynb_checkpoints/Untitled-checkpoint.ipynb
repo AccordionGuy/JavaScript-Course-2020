{
 "cells": [
  {
   "cell_type": "code",
   "execution_count": null,
   "metadata": {},
   "outputs": [],
   "source": []
  },
  {
   "cell_type": "markdown",
   "metadata": {},
   "source": [
    "### `Array.isArray()`\n",
    "\n",
    "### `.concat()`\n",
    "\n",
    "### `.join()`\n",
    "\n",
    "### `.indexOf()`\n",
    "\n",
    "### `.lastIndexOf()`\n",
    "\n",
    "### `.splice()`\n",
    "\n",
    "\n",
    "### `.every()`\n",
    "\n",
    "### `.filter()`\n",
    "\n",
    "### `find()`\n",
    "\n",
    "### `findIndex()`\n",
    "\n",
    "### `forEach()`\n",
    "\n",
    "### `map()`\n",
    "\n",
    "### `reduce()`\n",
    "\n",
    "### `some()`\n",
    "\n",
    "\n",
    "\n",
    "\n",
    "\n"
   ]
  },
  {
   "cell_type": "code",
   "execution_count": 1,
   "metadata": {},
   "outputs": [
    {
     "data": {
      "text/plain": [
       "true"
      ]
     },
     "execution_count": 1,
     "metadata": {},
     "output_type": "execute_result"
    }
   ],
   "source": [
    "Array.isArray([1, 2, 3])"
   ]
  },
  {
   "cell_type": "code",
   "execution_count": 2,
   "metadata": {},
   "outputs": [
    {
     "data": {
      "text/plain": [
       "false"
      ]
     },
     "execution_count": 2,
     "metadata": {},
     "output_type": "execute_result"
    }
   ],
   "source": [
    "Array.isArray(3)"
   ]
  },
  {
   "cell_type": "code",
   "execution_count": 3,
   "metadata": {},
   "outputs": [
    {
     "name": "stdout",
     "output_type": "stream",
     "text": [
      "false\n",
      "true\n"
     ]
    }
   ],
   "source": [
    "const numbers = [4, 8, 15, 16, 23, 42]\n",
    "\n",
    "function isLessThan20(number) {\n",
    "    return number < 20\n",
    "}\n",
    "\n",
    "function isLessThan50(number) {\n",
    "    return number < 50\n",
    "}\n",
    "\n",
    "console.log(numbers.every(isLessThan20))\n",
    "console.log(numbers.every(isLessThan50))"
   ]
  },
  {
   "cell_type": "code",
   "execution_count": null,
   "metadata": {},
   "outputs": [],
   "source": [
    "console.log(numbers.some(isLessThan20))\n",
    "console.log(numbers.some(isLessThan50))"
   ]
  },
  {
   "cell_type": "code",
   "execution_count": 10,
   "metadata": {},
   "outputs": [
    {
     "name": "stdout",
     "output_type": "stream",
     "text": [
      "[ 15, 23 ]\n",
      "[ 16, 23, 42 ]\n",
      "[ 15, 16, 23, 42 ]\n"
     ]
    }
   ],
   "source": [
    "function isOdd(number) {\n",
    "    return number % 2 != 0\n",
    "}\n",
    "\n",
    "console.log(numbers.filter(isOdd))\n",
    "console.log(numbers.filter(function(number) {return number > 15}))\n",
    "console.log(numbers.filter(number => number > 10))"
   ]
  },
  {
   "cell_type": "code",
   "execution_count": 9,
   "metadata": {},
   "outputs": [
    {
     "ename": "ReferenceError",
     "evalue": "biggerThan15 is not defined",
     "output_type": "error",
     "traceback": [
      "evalmachine.<anonymous>:1",
      "biggerThan15(17)",
      "^",
      "",
      "ReferenceError: biggerThan15 is not defined",
      "    at evalmachine.<anonymous>:1:1",
      "    at ContextifyScript.Script.runInThisContext (vm.js:50:33)",
      "    at Object.runInThisContext (vm.js:139:38)",
      "    at run ([eval]:1054:15)",
      "    at onRunRequest ([eval]:888:18)",
      "    at onMessage ([eval]:848:13)",
      "    at emitTwo (events.js:126:13)",
      "    at process.emit (events.js:214:7)",
      "    at emit (internal/child_process.js:772:12)",
      "    at _combinedTickCallback (internal/process/next_tick.js:141:11)"
     ]
    }
   ],
   "source": []
  },
  {
   "cell_type": "code",
   "execution_count": null,
   "metadata": {},
   "outputs": [],
   "source": []
  }
 ],
 "metadata": {
  "kernelspec": {
   "display_name": "Javascript (Node.js)",
   "language": "javascript",
   "name": "javascript"
  },
  "language_info": {
   "file_extension": ".js",
   "mimetype": "application/javascript",
   "name": "javascript",
   "version": "8.10.0"
  }
 },
 "nbformat": 4,
 "nbformat_minor": 4
}
