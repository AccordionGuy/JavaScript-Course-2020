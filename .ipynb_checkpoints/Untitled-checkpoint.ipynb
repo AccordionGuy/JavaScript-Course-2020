{
 "cells": [
  {
   "cell_type": "markdown",
   "metadata": {},
   "source": [
    "## Tip calculator"
   ]
  },
  {
   "cell_type": "code",
   "execution_count": null,
   "metadata": {},
   "outputs": [],
   "source": [
    "function calculateTip() {\n",
    "  let billAmount\n",
    "  const billAmountRaw = document.getElementById(\"bill_amount\").value\n",
    "  if (billAmountRaw.length === 0) {\n",
    "    alert(\"Please enter an amount for your bill.\")\n",
    "    return\n",
    "  } else {\n",
    "    billAmount = parseFloat(billAmount)\n",
    "  }\n",
    "\n",
    "  const rating = document.getElementById(\"rating\").value\n",
    "  if (rating === 0) {\n",
    "    alert(\"Please rate your service.\")\n",
    "    return\n",
    "  }\n",
    "\n",
    "  const numPeopleTextField = document.getElementById(\"num_people\")\n",
    "  const numPeopleRaw = numPeopleTextField.value\n",
    "  let numPeople\n",
    "  if (numPeopleText.length == 0) {\n",
    "    numPeople = 1\n",
    "    numPeopleTextField.value = 1\n",
    "  } else {\n",
    "    numPeople = parseInt(numPeopleText)\n",
    "  }\n",
    "\n",
    "  //validate input\n",
    "  if (billAmount === \"\" || rating == 0) {\n",
    "    alert(\"Please enter values\");\n",
    "    return;\n",
    "  }\n",
    "\n",
    "\n",
    "\n",
    "  //Calculate tip\n",
    "  var total = (billAmount * rating) / numPeople;\n",
    "  //round to two decimal places\n",
    "  total = Math.round(total * 100) / 100;\n",
    "  //next line allows us to always have two digits after decimal point\n",
    "  total = total.toFixed(2);\n",
    "  //Display the tip\n",
    "  document.getElementById(\"totalTip\").style.display = \"block\";\n",
    "  document.getElementById(\"tip\").innerHTML = total;\n",
    "\n",
    "}"
   ]
  },
  {
   "cell_type": "markdown",
   "metadata": {},
   "source": [
    "### `Array.isArray()`\n",
    "\n",
    "### `.concat()`\n",
    "\n",
    "### `.join()`\n",
    "\n",
    "### `.indexOf()`\n",
    "\n",
    "### `.lastIndexOf()`\n",
    "\n",
    "### `.splice()`\n",
    "\n",
    "\n",
    "\n",
    "\n",
    "\n",
    "### `find()`\n",
    "\n",
    "### `findIndex()`\n",
    "\n",
    "\n",
    "\n",
    "\n",
    "\n",
    "\n",
    "\n"
   ]
  },
  {
   "cell_type": "markdown",
   "metadata": {},
   "source": [
    "## Array.isArray"
   ]
  },
  {
   "cell_type": "code",
   "execution_count": 1,
   "metadata": {},
   "outputs": [
    {
     "data": {
      "text/plain": [
       "true"
      ]
     },
     "execution_count": 1,
     "metadata": {},
     "output_type": "execute_result"
    }
   ],
   "source": [
    "Array.isArray([1, 2, 3])"
   ]
  },
  {
   "cell_type": "code",
   "execution_count": 2,
   "metadata": {},
   "outputs": [
    {
     "data": {
      "text/plain": [
       "false"
      ]
     },
     "execution_count": 2,
     "metadata": {},
     "output_type": "execute_result"
    }
   ],
   "source": [
    "Array.isArray(3)"
   ]
  },
  {
   "cell_type": "code",
   "execution_count": 3,
   "metadata": {},
   "outputs": [],
   "source": [
    "const numbers = [4, 8, 15, 16, 23, 42]"
   ]
  },
  {
   "cell_type": "markdown",
   "metadata": {},
   "source": [
    "## find"
   ]
  },
  {
   "cell_type": "code",
   "execution_count": 8,
   "metadata": {},
   "outputs": [
    {
     "name": "stdout",
     "output_type": "stream",
     "text": [
      "undefined\n"
     ]
    }
   ],
   "source": [
    "console.log(numbers.find(number => Math.sqrt(number) == 9))"
   ]
  },
  {
   "cell_type": "markdown",
   "metadata": {},
   "source": [
    "## every"
   ]
  },
  {
   "cell_type": "code",
   "execution_count": 3,
   "metadata": {},
   "outputs": [
    {
     "name": "stdout",
     "output_type": "stream",
     "text": [
      "false\n",
      "true\n"
     ]
    }
   ],
   "source": [
    "\n",
    "\n",
    "function isLessThan20(number) {\n",
    "    return number < 20\n",
    "}\n",
    "\n",
    "function isLessThan50(number) {\n",
    "    return number < 50\n",
    "}\n",
    "\n",
    "console.log(numbers.every(isLessThan20))\n",
    "console.log(numbers.every(isLessThan50))"
   ]
  },
  {
   "cell_type": "markdown",
   "metadata": {},
   "source": [
    "## some"
   ]
  },
  {
   "cell_type": "code",
   "execution_count": 11,
   "metadata": {},
   "outputs": [
    {
     "name": "stdout",
     "output_type": "stream",
     "text": [
      "true\n",
      "true\n"
     ]
    }
   ],
   "source": [
    "console.log(numbers.some(isLessThan20))\n",
    "console.log(numbers.some(isLessThan50))"
   ]
  },
  {
   "cell_type": "markdown",
   "metadata": {},
   "source": [
    "## filter"
   ]
  },
  {
   "cell_type": "code",
   "execution_count": 10,
   "metadata": {},
   "outputs": [
    {
     "name": "stdout",
     "output_type": "stream",
     "text": [
      "[ 15, 23 ]\n",
      "[ 16, 23, 42 ]\n",
      "[ 15, 16, 23, 42 ]\n"
     ]
    }
   ],
   "source": [
    "function isOdd(number) {\n",
    "    return number % 2 != 0\n",
    "}\n",
    "\n",
    "console.log(numbers.filter(isOdd))\n",
    "console.log(numbers.filter(function(number) {return number > 15}))\n",
    "console.log(numbers.filter(number => number > 10))"
   ]
  },
  {
   "cell_type": "markdown",
   "metadata": {},
   "source": [
    "## map"
   ]
  },
  {
   "cell_type": "code",
   "execution_count": 13,
   "metadata": {},
   "outputs": [
    {
     "data": {
      "text/plain": [
       "[ 8, 16, 30, 32, 46, 84 ]"
      ]
     },
     "execution_count": 13,
     "metadata": {},
     "output_type": "execute_result"
    }
   ],
   "source": [
    "numbers.map(value => value * 2)"
   ]
  },
  {
   "cell_type": "markdown",
   "metadata": {},
   "source": [
    "## forEach"
   ]
  },
  {
   "cell_type": "code",
   "execution_count": 19,
   "metadata": {},
   "outputs": [
    {
     "name": "stdout",
     "output_type": "stream",
     "text": [
      "undefined\n"
     ]
    }
   ],
   "source": [
    "var fruits = [\"apple\", \"orange\", \"cherry\"];\n",
    "fruits.forEach(myFunction);\n",
    "\n",
    "function myFunction(item, index) {\n",
    "  document.getElementById(\"demo\").innerHTML += index + \":\" + item + \"<br>\"; \n",
    "}"
   ]
  },
  {
   "cell_type": "markdown",
   "metadata": {},
   "source": [
    "## reduce"
   ]
  },
  {
   "cell_type": "code",
   "execution_count": 14,
   "metadata": {},
   "outputs": [
    {
     "data": {
      "text/plain": [
       "108"
      ]
     },
     "execution_count": 14,
     "metadata": {},
     "output_type": "execute_result"
    }
   ],
   "source": [
    "function sum(accumulator, currentValue) {\n",
    "    return accumulator + currentValue\n",
    "}\n",
    "\n",
    "numbers.reduce(sum)"
   ]
  },
  {
   "cell_type": "code",
   "execution_count": 15,
   "metadata": {},
   "outputs": [
    {
     "data": {
      "text/plain": [
       "[ 4, 8, 15, 16, 23, 42 ]"
      ]
     },
     "execution_count": 15,
     "metadata": {},
     "output_type": "execute_result"
    }
   ],
   "source": [
    "numbers"
   ]
  },
  {
   "cell_type": "code",
   "execution_count": 17,
   "metadata": {},
   "outputs": [
    {
     "data": {
      "text/plain": [
       "'applebandaicolecodigital'"
      ]
     },
     "execution_count": 17,
     "metadata": {},
     "output_type": "execute_result"
    }
   ],
   "source": [
    "words = ['apple', 'bandai', 'coleco', 'digital']\n",
    "words.reduce(sum)"
   ]
  },
  {
   "cell_type": "code",
   "execution_count": null,
   "metadata": {},
   "outputs": [],
   "source": []
  }
 ],
 "metadata": {
  "kernelspec": {
   "display_name": "Javascript (Node.js)",
   "language": "javascript",
   "name": "javascript"
  },
  "language_info": {
   "file_extension": ".js",
   "mimetype": "application/javascript",
   "name": "javascript",
   "version": "15.0.1"
  }
 },
 "nbformat": 4,
 "nbformat_minor": 4
}
