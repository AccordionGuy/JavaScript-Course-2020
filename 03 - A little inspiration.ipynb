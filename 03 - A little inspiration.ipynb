{
 "cells": [
  {
   "cell_type": "markdown",
   "metadata": {},
   "source": [
    "### Steve Klabnik’s "
   ]
  },
  {
   "cell_type": "markdown",
   "metadata": {},
   "source": [
    "## Welcome!\n",
    "\n",
    "<img src=\"http://www.globalnerdy.com/wp-content/uploads/2020/09/coding-confidence-vs-competence.jpg\" width=\"550\" />\n",
    "\n",
    "(In case you were wondering, the graph above was taken from [*Why Learning to Code is So Damn Hard*](https://www.thinkful.com/blog/why-learning-to-code-is-so-damn-hard/) by Erik Trautman. It’s worth reading.)"
   ]
  },
  {
   "cell_type": "markdown",
   "metadata": {},
   "source": [
    "<img src=\"http://www.globalnerdy.com/wp-content/uploads/2020/08/so-you-want-to-be-a-wizard.jpg\" width=\"250\" />"
   ]
  },
  {
   "cell_type": "code",
   "execution_count": null,
   "metadata": {},
   "outputs": [],
   "source": []
  }
 ],
 "metadata": {
  "kernelspec": {
   "display_name": "Javascript (Node.js)",
   "language": "javascript",
   "name": "javascript"
  },
  "language_info": {
   "file_extension": ".js",
   "mimetype": "application/javascript",
   "name": "javascript",
   "version": "8.10.0"
  }
 },
 "nbformat": 4,
 "nbformat_minor": 4
}
