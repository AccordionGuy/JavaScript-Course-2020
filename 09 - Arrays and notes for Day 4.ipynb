{
 "cells": [
  {
   "cell_type": "markdown",
   "metadata": {},
   "source": [
    "# 09: Arrays / Notes for Day 4, part 1\n",
    "\n",
    "## What are arrays?\n",
    "\n",
    "<img src=\"http://www.globalnerdy.com/wp-content/uploads/2020/10/single-mailbox.jpg\" width=\"200\">\n",
    "\n",
    "An ordinary variable is like a single box that you can put a single value into. Here are a couple of ordinary variables:\n",
    "\n",
    "```\n",
    "let score = 5\n",
    "let userName = \"Alice\"\n",
    "```\n",
    "\n",
    "Ordinary variables are useful, but there are many times when you want to deal with collections of values, such as:\n",
    "\n",
    "* The scores for past games\n",
    "* A list of users’ names\n",
    "* The items in someone’s ecommerce shopping cart\n",
    "\n",
    "To do this, we use **arrays**.\n",
    "\n",
    "<img src=\"http://www.globalnerdy.com/wp-content/uploads/2020/10/multiple-mailboxes.jpg\" width=\"200\">\n",
    "\n",
    "If an ordinary variable is like a single box that you put a single value into, an array is like a ordered collection of boxes that can hold multiple values. \n",
    "\n",
    "Here’s how you declare array of scores:\n",
    "\n",
    "```\n",
    "let scores = [32, 58, 21, 0]\n",
    "```\n",
    "\n",
    "The code above creates a variable named `scores` that contains an array that looks like this:\n",
    "\n",
    "<img src=\"http://www.globalnerdy.com/wp-content/uploads/2020/10/scores.jpg\" width=\"200\">\n",
    "\n",
    "Arrays have an order. In the `scores` array, the first score is **32**. The second score is **58**. The third score is **21**. The fourth score is **0**.\n",
    "\n",
    "Each “box” in an array has an **index**, which you should think of as its box number.\n",
    "\n",
    "Unlike humans, who typically start counting with the number **1**, computers count starting with the number **0**. This also applies to arrays, which means that the index of the first box in an array is **0**, the second box in an array is **1**, and so on.\n",
    "\n",
    "In computer science, the boxes in an array are called **elements**.\n",
    "\n",
    "You access individual elements in an array using *array notation*, which specifies both the name of the array and the index of the element you want to access.\n",
    "\n",
    "Here’s how you’d access the first element of `scores`:\n",
    "\n",
    "```\n",
    "scores[0]\n",
    "```\n",
    "\n",
    "Remember, the first index of an array isn’t **1**; it’s **0**.\n",
    "\n",
    "If you were to print out the value inside `scores[0]` using this code:\n",
    "\n",
    "```\n",
    "console.log(scores[0])\n",
    "```\n",
    "\n",
    "JavaScript would print out the first score in the array: **32**.\n",
    "\n",
    "Here’s how you’d access the *second* element of `scores`:\n",
    "\n",
    "```\n",
    "scores[1]\n",
    "```\n",
    "\n",
    "If you were to print out the value inside `scores[1]` using this code:\n",
    "\n",
    "```\n",
    "console.log(scores[1])\n",
    "```\n",
    "\n",
    "JavaScript would print out the second score in the array: **58**.\n",
    "\n",
    "Suppose you wanted to change the *third* score in the array to **77**. Here’s how you’d do it:\n",
    "\n",
    "```\n",
    "scores[2] = 77\n",
    "```\n",
    "\n",
    "If you were to print out the value inside `scores[2]` using this code:\n",
    "\n",
    "```\n",
    "console.log(scores[2])\n",
    "```\n",
    "\n",
    "JavaScript would print out the second score in the array: **77*.\n",
    "\n",
    "If you were to print out the entire array using this code:\n",
    "\n",
    "```\n",
    "console.log(scores)\n",
    "```\n",
    "\n",
    "JavaScript would print out **\\[32, 58, 77, 0\\]**.\n",
    "\n",
    "\n",
    "\n",
    "\n",
    "## Creating an empty array"
   ]
  },
  {
   "cell_type": "code",
   "execution_count": 1,
   "metadata": {},
   "outputs": [
    {
     "name": "stdout",
     "output_type": "stream",
     "text": [
      "[]\n"
     ]
    }
   ],
   "source": [
    "let myArray = []\n",
    "console.log(myArray)"
   ]
  },
  {
   "cell_type": "markdown",
   "metadata": {},
   "source": [
    "## Creating an array, given some elements\n",
    "\n",
    "Let’s create an array named `flavors`, a list of ice cream flavors. It contains the following strings in the given order:\n",
    "\n",
    "* vanilla\n",
    "* chocolate\n",
    "* strawberry\n",
    "* jamoca\n",
    "* rum raisin"
   ]
  },
  {
   "cell_type": "code",
   "execution_count": 3,
   "metadata": {},
   "outputs": [
    {
     "name": "stdout",
     "output_type": "stream",
     "text": [
      "[ 'vanilla', 'chocolate', 'strawberry', 'jamoca', 'rum raisin' ]\n"
     ]
    }
   ],
   "source": [
    "let flavors = [\"vanilla\", \"chocolate\", \"strawberry\", \"jamoca\", \"rum raisin\"]\n",
    "console.log(flavors)"
   ]
  },
  {
   "cell_type": "markdown",
   "metadata": {},
   "source": [
    "## How many elements in the array?: `length`\n",
    "\n",
    "Use the `length` property to get the number of items in an array."
   ]
  },
  {
   "cell_type": "code",
   "execution_count": 4,
   "metadata": {},
   "outputs": [
    {
     "name": "stdout",
     "output_type": "stream",
     "text": [
      "There are 5 flavors in the array.\n"
     ]
    }
   ],
   "source": [
    "console.log(`There are ${flavors.length} flavors in the array.`)"
   ]
  },
  {
   "cell_type": "markdown",
   "metadata": {},
   "source": [
    "## Getting the value of a specific element in the array: *`arrayName`*`[`*`index`*`]`\n",
    "\n",
    "Use the array’s name followed by the item’s index (its position in the array, which is a number) in square brackets to get the value of a specific item in the array. \n",
    "\n",
    "For example, if you have an array named `my_array` and want to get the value stored at index `2`, you would use `my_array[2]`.\n",
    "\n",
    "Remember that in array indexes start at `0`."
   ]
  },
  {
   "cell_type": "code",
   "execution_count": 5,
   "metadata": {},
   "outputs": [
    {
     "name": "stdout",
     "output_type": "stream",
     "text": [
      "vanilla\n",
      "chocolate\n",
      "My favorite flavor is jamoca.\n"
     ]
    }
   ],
   "source": [
    "console.log(flavors[0]) // The index of the first element in an array is 0, not 1.\n",
    "console.log(flavors[1]) // flavors[1] is the *second* element in the array.\n",
    "\n",
    "let message = `My favorite flavor is ${flavors[3]}.`\n",
    "console.log(message) // Outputs \"My favorite flavor is jamoca.\""
   ]
  },
  {
   "cell_type": "markdown",
   "metadata": {},
   "source": [
    "## Changing the value of a specific element in the array: *`arrayName`*`[`*`index`*`] = `*`new_value`*\n",
    "\n",
    "What if we wanted to change the second flavor in the array to mint chocolate chip?\n",
    "\n",
    "You’d do that by assigning a new value to `flavors[1]`, the second item in the array."
   ]
  },
  {
   "cell_type": "code",
   "execution_count": 6,
   "metadata": {},
   "outputs": [
    {
     "name": "stdout",
     "output_type": "stream",
     "text": [
      "[ 'vanilla',\n",
      "  'mint chocolate chip',\n",
      "  'strawberry',\n",
      "  'jamoca',\n",
      "  'rum raisin' ]\n"
     ]
    }
   ],
   "source": [
    "flavors[1] = \"mint chocolate chip\" // Changes the flavor at index 1 from chocolate\n",
    "                                   // to mint chocolate chip. \n",
    "console.log(flavors)"
   ]
  },
  {
   "cell_type": "markdown",
   "metadata": {},
   "source": [
    "## Adding a new item(s) to the end of the array: *`arrayName`*`.push(`*`item(s)`*`)`\n",
    "\n",
    "The `push()` method does two things:\n",
    "\n",
    "* It takes one or more items and adds it/them to the end of the array.\n",
    "* It returns the new number of items in the array."
   ]
  },
  {
   "cell_type": "code",
   "execution_count": 7,
   "metadata": {},
   "outputs": [
    {
     "name": "stdout",
     "output_type": "stream",
     "text": [
      "[ 'vanilla',\n",
      "  'mint chocolate chip',\n",
      "  'strawberry',\n",
      "  'jamoca',\n",
      "  'rum raisin',\n",
      "  'pistachio' ]\n"
     ]
    }
   ],
   "source": [
    "// Using push() to simply add an item to the end of the array\n",
    "flavors.push('pistachio') // Adds a new flavor, pistachio, to the end of the array.\n",
    "console.log(flavors)"
   ]
  },
  {
   "cell_type": "code",
   "execution_count": 8,
   "metadata": {},
   "outputs": [
    {
     "name": "stdout",
     "output_type": "stream",
     "text": [
      "There are now 9 flavors:\n",
      "[ 'vanilla',\n",
      "  'mint chocolate chip',\n",
      "  'strawberry',\n",
      "  'jamoca',\n",
      "  'rum raisin',\n",
      "  'pistachio',\n",
      "  'pralines and cream',\n",
      "  'bubble gum',\n",
      "  'maple bacon' ]\n"
     ]
    }
   ],
   "source": [
    "// Using push() to add a number of items to the end of the array\n",
    "// and get the new number of items in the array\n",
    "let count = flavors.push('pralines and cream', 'bubble gum', 'maple bacon')\n",
    "console.log(`There are now ${count} flavors:`)\n",
    "console.log(flavors)"
   ]
  },
  {
   "cell_type": "markdown",
   "metadata": {},
   "source": [
    "## Removing an item from the end of the array: *`arrayName`*`.pop()`\n",
    "\n",
    "The `pop()` method does two things:\n",
    "\n",
    "* It removes the item the end of the array.\n",
    "* It returns the item that was just removed."
   ]
  },
  {
   "cell_type": "code",
   "execution_count": 9,
   "metadata": {},
   "outputs": [
    {
     "name": "stdout",
     "output_type": "stream",
     "text": [
      "[ 'vanilla',\n",
      "  'mint chocolate chip',\n",
      "  'strawberry',\n",
      "  'jamoca',\n",
      "  'rum raisin',\n",
      "  'pistachio',\n",
      "  'pralines and cream',\n",
      "  'bubble gum' ]\n"
     ]
    }
   ],
   "source": [
    "// Using pop() to simply remove an item from the end of the array\n",
    "flavors.pop() // Removes the flavor at the end of the array\n",
    "console.log(flavors)"
   ]
  },
  {
   "cell_type": "code",
   "execution_count": 10,
   "metadata": {},
   "outputs": [
    {
     "name": "stdout",
     "output_type": "stream",
     "text": [
      "Removed bubble gum from the array.\n",
      "[ 'vanilla',\n",
      "  'mint chocolate chip',\n",
      "  'strawberry',\n",
      "  'jamoca',\n",
      "  'rum raisin',\n",
      "  'pistachio',\n",
      "  'pralines and cream' ]\n"
     ]
    }
   ],
   "source": [
    "// Using pop() to remove an item from the end of the array\n",
    "// and retrieve the newly-removed item\n",
    "let removedFlavor = flavors.pop()\n",
    "console.log(`Removed ${removedFlavor} from the array.`)\n",
    "console.log(flavors)"
   ]
  },
  {
   "cell_type": "markdown",
   "metadata": {},
   "source": [
    "## Adding a new item(s) to the start of the array: *`arrayName`*`.unshift(`*`item(s)`*`)`\n",
    "\n",
    "The `unshift()` method does two things:\n",
    "\n",
    "* It takes one or more items and adds it/them to the start of the array.\n",
    "* It returns the new number of items in the array."
   ]
  },
  {
   "cell_type": "code",
   "execution_count": 11,
   "metadata": {},
   "outputs": [
    {
     "name": "stdout",
     "output_type": "stream",
     "text": [
      "[ 'vanilla',\n",
      "  'mint chocolate chip',\n",
      "  'strawberry',\n",
      "  'jamoca',\n",
      "  'rum raisin',\n",
      "  'pistachio',\n",
      "  'pralines and cream',\n",
      "  'mango' ]\n"
     ]
    }
   ],
   "source": [
    "// Using unshift() to simply add an item to the start of the array\n",
    "flavors.push('mango') // Adds a new flavor, mango, to the start of the array.\n",
    "console.log(flavors)"
   ]
  },
  {
   "cell_type": "code",
   "execution_count": 12,
   "metadata": {},
   "outputs": [
    {
     "name": "stdout",
     "output_type": "stream",
     "text": [
      "There are now 10 flavors:\n",
      "[ 'cake batter',\n",
      "  'butterscotch',\n",
      "  'vanilla',\n",
      "  'mint chocolate chip',\n",
      "  'strawberry',\n",
      "  'jamoca',\n",
      "  'rum raisin',\n",
      "  'pistachio',\n",
      "  'pralines and cream',\n",
      "  'mango' ]\n"
     ]
    }
   ],
   "source": [
    "// Using unshift() to add a number of items to the start of the array\n",
    "// and get the new number of items in the array\n",
    "count = flavors.unshift('cake batter', 'butterscotch')\n",
    "console.log(`There are now ${count} flavors:`)\n",
    "console.log(flavors)"
   ]
  },
  {
   "cell_type": "markdown",
   "metadata": {},
   "source": [
    "## Removing an item from the start of the array: *`arrayName`*`.shift()`\n",
    "\n",
    "The `shift()` method does two things:\n",
    "\n",
    "* It removes the item the start of the array.\n",
    "* It returns the item that was just removed."
   ]
  },
  {
   "cell_type": "code",
   "execution_count": 13,
   "metadata": {},
   "outputs": [
    {
     "name": "stdout",
     "output_type": "stream",
     "text": [
      "[ 'butterscotch',\n",
      "  'vanilla',\n",
      "  'mint chocolate chip',\n",
      "  'strawberry',\n",
      "  'jamoca',\n",
      "  'rum raisin',\n",
      "  'pistachio',\n",
      "  'pralines and cream',\n",
      "  'mango' ]\n"
     ]
    }
   ],
   "source": [
    "// Using shift() to simply remove an item from the start of the array\n",
    "flavors.shift() // Removes the flavor at the start of the array\n",
    "console.log(flavors)"
   ]
  },
  {
   "cell_type": "code",
   "execution_count": 14,
   "metadata": {},
   "outputs": [
    {
     "name": "stdout",
     "output_type": "stream",
     "text": [
      "Removed butterscotch from the array.\n",
      "[ 'vanilla',\n",
      "  'mint chocolate chip',\n",
      "  'strawberry',\n",
      "  'jamoca',\n",
      "  'rum raisin',\n",
      "  'pistachio',\n",
      "  'pralines and cream',\n",
      "  'mango' ]\n"
     ]
    }
   ],
   "source": [
    "// Using shift() to remove an item from the start of the array\n",
    "// and retrieve the newly-removed item\n",
    "removedFlavor = flavors.shift()\n",
    "console.log(`Removed ${removedFlavor} from the array.`)\n",
    "console.log(flavors)"
   ]
  },
  {
   "cell_type": "markdown",
   "metadata": {},
   "source": [
    "## Is a given value in the array?: *`arrayName`*`.includes(`*`value`*`)`\n",
    "\n",
    "Before we continue, let's redefine the array of flavors:"
   ]
  },
  {
   "cell_type": "code",
   "execution_count": 15,
   "metadata": {},
   "outputs": [
    {
     "data": {
      "text/plain": [
       "[ 'acai',\n",
       "  'bubble gum',\n",
       "  'cookie dough',\n",
       "  'green tea',\n",
       "  'green tea',\n",
       "  'lemon sherbet' ]"
      ]
     },
     "execution_count": 15,
     "metadata": {},
     "output_type": "execute_result"
    }
   ],
   "source": [
    "// Note that green tea appears twice in the array. This is intentional.\n",
    "flavors = [\"acai\", \"bubble gum\", \"cookie dough\", \"green tea\", \"green tea\", \"lemon sherbet\"]"
   ]
  },
  {
   "cell_type": "markdown",
   "metadata": {},
   "source": [
    "Use the `includes` method to see if an element is in an array."
   ]
  },
  {
   "cell_type": "code",
   "execution_count": 16,
   "metadata": {},
   "outputs": [
    {
     "name": "stdout",
     "output_type": "stream",
     "text": [
      "Is green tea in the array?: true\n",
      "Is cappucino in the array?: false\n"
     ]
    }
   ],
   "source": [
    "console.log(`Is green tea in the array?: ${flavors.includes(\"green tea\")}`)\n",
    "console.log(`Is cappucino in the array?: ${flavors.includes(\"cappucino\")}`)"
   ]
  },
  {
   "cell_type": "markdown",
   "metadata": {},
   "source": [
    "## Where does a given value appear in the array?: *`arrayName`*`.indexOf(`*`value`*`)`\n",
    "\n",
    "The `indexOf()` method gets the index of the first occurrence of a given value in the array, or `-1` if the value isn’t anywhere in the array."
   ]
  },
  {
   "cell_type": "code",
   "execution_count": 17,
   "metadata": {},
   "outputs": [
    {
     "name": "stdout",
     "output_type": "stream",
     "text": [
      "The index of green tea in the array is 3.\n",
      "The index of rocky road in the array is -1.\n"
     ]
    }
   ],
   "source": [
    "console.log(`The index of green tea in the array is ${flavors.indexOf(\"green tea\")}.`)\n",
    "console.log(`The index of rocky road in the array is ${flavors.indexOf(\"rocky road\")}.`)"
   ]
  },
  {
   "cell_type": "markdown",
   "metadata": {},
   "source": [
    "## Sorting the array: *`arrayName`*`.sort()`\n",
    "\n",
    "The `sort()` method does two things:\n",
    "\n",
    "* It sorts the array’s elements in place — that is, it changes the original array.\n",
    "* It returns the sorted array."
   ]
  },
  {
   "cell_type": "code",
   "execution_count": 18,
   "metadata": {},
   "outputs": [
    {
     "name": "stdout",
     "output_type": "stream",
     "text": [
      "The original array, flavors:\n",
      "[ 'acai',\n",
      "  'bubble gum',\n",
      "  'cookie dough',\n",
      "  'green tea',\n",
      "  'green tea',\n",
      "  'lemon sherbet' ]\n",
      "The sorted array, sortedFlavors:\n",
      "[ 'acai',\n",
      "  'bubble gum',\n",
      "  'cookie dough',\n",
      "  'green tea',\n",
      "  'green tea',\n",
      "  'lemon sherbet' ]\n"
     ]
    }
   ],
   "source": [
    "let sortedFlavors = flavors.sort()\n",
    "console.log(\"The original array, flavors:\")\n",
    "console.log(flavors)\n",
    "console.log(\"The sorted array, sortedFlavors:\")\n",
    "console.log(sortedFlavors)"
   ]
  },
  {
   "cell_type": "markdown",
   "metadata": {},
   "source": [
    "## Reversing the array: *`arrayName`*`.reverse()`\n",
    "\n",
    "The `reverse()` method does two things:\n",
    "\n",
    "* It reverses the array’s elements in place.\n",
    "* It returns the reversed array."
   ]
  },
  {
   "cell_type": "markdown",
   "metadata": {},
   "source": [
    "Let’s redefine the list of flavors first:"
   ]
  },
  {
   "cell_type": "code",
   "execution_count": 1,
   "metadata": {},
   "outputs": [
    {
     "data": {
      "text/plain": [
       "[ 'mint chocolate chip',\n",
       "  'vanilla',\n",
       "  'strawberry',\n",
       "  'jamoca',\n",
       "  'rum raisin' ]"
      ]
     },
     "execution_count": 1,
     "metadata": {},
     "output_type": "execute_result"
    }
   ],
   "source": [
    "flavors = ['mint chocolate chip', 'vanilla', 'strawberry', 'jamoca', 'rum raisin']"
   ]
  },
  {
   "cell_type": "code",
   "execution_count": 2,
   "metadata": {},
   "outputs": [
    {
     "name": "stdout",
     "output_type": "stream",
     "text": [
      "The original array, flavors:\n",
      "[ 'rum raisin',\n",
      "  'jamoca',\n",
      "  'strawberry',\n",
      "  'vanilla',\n",
      "  'mint chocolate chip' ]\n",
      "The reversed array, reversedFlavors:\n",
      "[ 'rum raisin',\n",
      "  'jamoca',\n",
      "  'strawberry',\n",
      "  'vanilla',\n",
      "  'mint chocolate chip' ]\n"
     ]
    }
   ],
   "source": [
    "let reversedFlavors = flavors.reverse()\n",
    "console.log(\"The original array, flavors:\")\n",
    "console.log(flavors)\n",
    "console.log(\"The reversed array, reversedFlavors:\")\n",
    "console.log(reversedFlavors)"
   ]
  },
  {
   "cell_type": "markdown",
   "metadata": {},
   "source": [
    "## Answers to the exercises at the end of Chapter 4\n",
    "\n",
    "Here are my answers to the exercises at the end of [Chapter 4 of *Eloquent JavaScript*](https://eloquentjavascript.net/04_data.html).\n",
    "\n",
    "### The sum of a range\n",
    "\n",
    "This exercise had two challenges:\n",
    "\n",
    "1. Write a `range()` function that takes two arguments, `start` and `end`, and returns an array containing all the numbers from `start` up to (and including) `end`.\n",
    "2. Next, write a `sum()` function that takes an array of numbers and returns the sum of these numbers. Run the example program and see whether it does indeed return 55."
   ]
  },
  {
   "cell_type": "code",
   "execution_count": 3,
   "metadata": {},
   "outputs": [
    {
     "name": "stdout",
     "output_type": "stream",
     "text": [
      "[ 1, 2, 3, 4, 5, 6, 7, 8, 9, 10 ]\n"
     ]
    }
   ],
   "source": [
    "function range(start, end) {\n",
    "    result = []\n",
    "    for (let number = start; number <= end; number++) {\n",
    "        result.push(number)\n",
    "    }\n",
    "    return result\n",
    "}\n",
    "\n",
    "console.log(range(1, 10))"
   ]
  },
  {
   "cell_type": "code",
   "execution_count": 4,
   "metadata": {},
   "outputs": [
    {
     "name": "stdout",
     "output_type": "stream",
     "text": [
      "55\n"
     ]
    }
   ],
   "source": [
    "function sum(numbers) {\n",
    "    result = 0\n",
    "    for (const number of numbers) {\n",
    "        result += number\n",
    "    }\n",
    "    return result\n",
    "}\n",
    "\n",
    "console.log(sum(range(1, 10)))"
   ]
  },
  {
   "cell_type": "markdown",
   "metadata": {},
   "source": [
    "### Reversing an array\n",
    "\n",
    "Even though arrays already have a built-in function that reverses their contents, this exercises challenges you to write your own functions:\n",
    "\n",
    "1. The first one should be a function that takes an array and creates a new array. This new array is a copy of the original array, but with its contents in reverse order.\n",
    "2. The second one should be a function that takes an array and reverses its contents. This is what the built-in `reverse()` function does."
   ]
  },
  {
   "cell_type": "code",
   "execution_count": 23,
   "metadata": {},
   "outputs": [
    {
     "name": "stdout",
     "output_type": "stream",
     "text": [
      "[ 'C', 'B', 'A' ]\n"
     ]
    }
   ],
   "source": [
    "function reverseArray(theArray) {\n",
    "    result = []\n",
    "    for (let index = theArray.length - 1; index >= 0; index --) {\n",
    "        result.push(theArray[index])\n",
    "    }\n",
    "    return result\n",
    "}\n",
    "\n",
    "console.log(reverseArray([\"A\", \"B\", \"C\"]));"
   ]
  },
  {
   "cell_type": "code",
   "execution_count": 24,
   "metadata": {},
   "outputs": [
    {
     "name": "stdout",
     "output_type": "stream",
     "text": [
      "[ 'F', 'E', 'D', 'C', 'B', 'A' ]\n"
     ]
    }
   ],
   "source": [
    "function reverseArrayInPlace(theArray) {\n",
    "    let startIndex = 0\n",
    "    let endIndex = theArray.length -1\n",
    "    while (startIndex < endIndex) {\n",
    "        let temp = theArray[endIndex]\n",
    "        theArray[endIndex] = theArray[startIndex]\n",
    "        theArray[startIndex] = temp\n",
    "        \n",
    "        startIndex++\n",
    "        endIndex--        \n",
    "    }\n",
    "}\n",
    "\n",
    "let x = [\"A\", \"B\", \"C\", \"D\", \"E\", \"F\"]\n",
    "reverseArrayInPlace(x)\n",
    "console.log(x)"
   ]
  },
  {
   "cell_type": "code",
   "execution_count": null,
   "metadata": {},
   "outputs": [],
   "source": []
  }
 ],
 "metadata": {
  "kernelspec": {
   "display_name": "Javascript (Node.js)",
   "language": "javascript",
   "name": "javascript"
  },
  "language_info": {
   "file_extension": ".js",
   "mimetype": "application/javascript",
   "name": "javascript",
   "version": "8.10.0"
  }
 },
 "nbformat": 4,
 "nbformat_minor": 4
}
