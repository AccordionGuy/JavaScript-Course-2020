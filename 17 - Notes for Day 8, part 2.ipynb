{
 "cells": [
  {
   "cell_type": "markdown",
   "metadata": {},
   "source": [
    "# 17: Notes for Day 8, part 2\n",
    "\n",
    "## Higher-order functions\n",
    "\n",
    "![](http://www.globalnerdy.com/wp-content/uploads/2020/10/weresquirrel.jpg)\n",
    "\n",
    "If you tried to read [the *Eloquent JavaScript* chapter on higher-order functions](https://eloquentjavascript.net/05_higher_order.html) — the one with the “weresquirrel” story — and got confused, this set of notes is for you.\n",
    "\n",
    "Let’s take a step back and look at **first-order functions**, which are just functions as you know them.\n",
    "\n",
    "\n",
    "### First-order functions (or, as you might call them, regular functions)\n",
    "\n",
    "First-order functions are functions that:\n",
    "\n",
    "* Either don’t take in a value as an argument (an argument is a value that you provide to a function), or take in one or more values as an argument.\n",
    "* Either don’t return a value, or return a single value.\n",
    "\n",
    "Here’s a first-order function that doesn’t take an argument and doesn’t return a value:"
   ]
  },
  {
   "cell_type": "code",
   "execution_count": 1,
   "metadata": {},
   "outputs": [
    {
     "name": "stdout",
     "output_type": "stream",
     "text": [
      "Hello!\n"
     ]
    }
   ],
   "source": [
    "function sayHello() {\n",
    "    console.log(\"Hello!\")\n",
    "}\n",
    "\n",
    "sayHello()"
   ]
  },
  {
   "cell_type": "markdown",
   "metadata": {},
   "source": [
    "`Math.random()` is a built-in first-order function. It doesn’t take an argument, but it returns a value: a random number between 0 and 1:"
   ]
  },
  {
   "cell_type": "code",
   "execution_count": 2,
   "metadata": {},
   "outputs": [
    {
     "name": "stdout",
     "output_type": "stream",
     "text": [
      "0.8324773805982304\n"
     ]
    }
   ],
   "source": [
    "console.log(Math.random())"
   ]
  },
  {
   "cell_type": "markdown",
   "metadata": {},
   "source": [
    "`console.log()` is a built-in first-order function. It takes an argument, but it doesn’t return a value. The fact that it outputs text to the console is a side effect, not a value it returns."
   ]
  },
  {
   "cell_type": "code",
   "execution_count": 3,
   "metadata": {},
   "outputs": [
    {
     "name": "stdout",
     "output_type": "stream",
     "text": [
      "x will be undefined.\n",
      "undefined\n"
     ]
    }
   ],
   "source": [
    "let x = console.log(\"x will be undefined.\")\n",
    "console.log(x)"
   ]
  },
  {
   "cell_type": "markdown",
   "metadata": {},
   "source": [
    "`Math.max()` is a built-in first-order function. It takes any number of arguments and returns the argument with the largest (maximum, which is why it’s called `max`) value."
   ]
  },
  {
   "cell_type": "code",
   "execution_count": 4,
   "metadata": {},
   "outputs": [
    {
     "name": "stdout",
     "output_type": "stream",
     "text": [
      "99\n"
     ]
    }
   ],
   "source": [
    "console.log(Math.max(67, 8, 99, 12, 34))"
   ]
  },
  {
   "cell_type": "markdown",
   "metadata": {},
   "source": [
    "## Higher-order functions\n",
    "\n",
    "Higher-order functions are functions that:\n",
    "\n",
    "* Take one or more **functions** as an argument, or\n",
    "* Return a **function**.\n",
    "\n",
    "Let’s try a simple example. First, let’s define a function that calculates Florida sales tax, which is 6% at the time I’m writing this:"
   ]
  },
  {
   "cell_type": "code",
   "execution_count": 9,
   "metadata": {},
   "outputs": [
    {
     "name": "stdout",
     "output_type": "stream",
     "text": [
      "Florida sales tax on a $1.00 item is: 0.06.\n"
     ]
    }
   ],
   "source": [
    "function floridaSalesTax(price) {\n",
    "    return price * 0.06\n",
    "}\n",
    "\n",
    "console.log(`Florida sales tax on a $1.00 item is: ${floridaSalesTax(1)}.`)"
   ]
  },
  {
   "cell_type": "markdown",
   "metadata": {},
   "source": [
    "Then, let’s define a function that calculates Georgia sales tax, which is 4% in most parts of Georgia:"
   ]
  },
  {
   "cell_type": "code",
   "execution_count": 10,
   "metadata": {},
   "outputs": [
    {
     "name": "stdout",
     "output_type": "stream",
     "text": [
      "Georgia sales tax on a $1.00 item is: 0.04.\n"
     ]
    }
   ],
   "source": [
    "function georgiaSalesTax(price) {\n",
    "    return price * 0.04\n",
    "}\n",
    "\n",
    "console.log(`Georgia sales tax on a $1.00 item is: ${georgiaSalesTax(1)}.`)"
   ]
  },
  {
   "cell_type": "markdown",
   "metadata": {},
   "source": [
    "We can now write a function that’s flexible enough to calculate the sales tax in multiple states, which is the sort of thing that ecommerce apps do all the time. This function takes two arguments:\n",
    "\n",
    "* The price of the item\n",
    "* A function that calculates sales tax\n",
    "\n",
    "Here’s the function:"
   ]
  },
  {
   "cell_type": "code",
   "execution_count": 11,
   "metadata": {},
   "outputs": [],
   "source": [
    "function calculateSalesTax(price, stateSalesTaxFunction) {\n",
    "    return stateSalesTaxFunction(price)\n",
    "}"
   ]
  },
  {
   "cell_type": "markdown",
   "metadata": {},
   "source": [
    "Let’s try out `calculateSalesTax()` on an item priced at $9.99 and purchased in Florida:"
   ]
  },
  {
   "cell_type": "code",
   "execution_count": 13,
   "metadata": {},
   "outputs": [
    {
     "name": "stdout",
     "output_type": "stream",
     "text": [
      "0.5994\n"
     ]
    }
   ],
   "source": [
    "console.log(calculateSalesTax(9.99, floridaSalesTax))"
   ]
  },
  {
   "cell_type": "markdown",
   "metadata": {},
   "source": [
    "Let’s take a closer look at what just happened.\n",
    "\n",
    "We called `calculateSalesTax()` by providing it with two arguments:\n",
    "\n",
    "* `price`, which we set to 9.99, which is a value.\n",
    "* `stateSalesTaxFunction`, which we set to `floridaSalesTax`, which is the name of a function.\n",
    "\n",
    "`calculateSalesTax()` takes the function contained within `stateSalesTaxFunction()`, which is `floridaSalesTax()`, and calls it, using `price` — which contains **9.99** as its argument. It’s effectively making this function call:\n",
    "\n",
    "```\n",
    "floridaSalesTax(9.99)\n",
    "```\n",
    "\n",
    "Let’s try `calculateSalesTax()` on an item priced at $9.99 again, but this time treating the purchase as being made in Georgia:"
   ]
  },
  {
   "cell_type": "code",
   "execution_count": 15,
   "metadata": {},
   "outputs": [
    {
     "name": "stdout",
     "output_type": "stream",
     "text": [
      "0.3996\n"
     ]
    }
   ],
   "source": [
    "console.log(calculateSalesTax(9.99, georgiaSalesTax))"
   ]
  },
  {
   "cell_type": "markdown",
   "metadata": {},
   "source": [
    "This time, `calculateSalesTax()` uses `georgiaSalesTax()` to calculate the sales tax on the price."
   ]
  },
  {
   "cell_type": "markdown",
   "metadata": {},
   "source": [
    "By coding `calculateSalesTax()` this way, we get all sorts of flexibility. Whenever we have to support a new state’s sales tax, we simply define a function to calculate it, and then provide it to `calculateSalesTax()`."
   ]
  },
  {
   "cell_type": "code",
   "execution_count": null,
   "metadata": {},
   "outputs": [],
   "source": []
  }
 ],
 "metadata": {
  "kernelspec": {
   "display_name": "Javascript (Node.js)",
   "language": "javascript",
   "name": "javascript"
  },
  "language_info": {
   "file_extension": ".js",
   "mimetype": "application/javascript",
   "name": "javascript",
   "version": "8.10.0"
  }
 },
 "nbformat": 4,
 "nbformat_minor": 4
}
