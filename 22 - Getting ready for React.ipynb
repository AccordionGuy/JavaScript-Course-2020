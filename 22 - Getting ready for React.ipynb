{
 "cells": [
  {
   "cell_type": "markdown",
   "metadata": {},
   "source": [
    "# 101: Getting ready for React\n",
    "\n",
    "## Installing React\n",
    "\n",
    "### Installing React\n",
    "\n",
    "If you installed **Node** along with the rest of the class, you probably also have the program called **npm**, which is short for **Node Package Manager**. It installs ***packages***, which is add-ons for Node that add extra functionality.\n",
    "\n",
    "To see if you have npm installed, open a command line (that’s **Command Prompt** on Windows, and **Terminal** on the Mac). Then enter the following:\n",
    "\n",
    "```\n",
    "npm -v\n",
    "```\n",
    "\n",
    "If you get an error message, it means that you *don’t* have npm installed. Jump to the section titled ***Reinstalling Node and npm***.\n",
    "\n",
    "If you get a response that looks like a version number — `7.0.3` or something like that — it means that you have npm installed, and you can continue.\n",
    "\n",
    "To install React, enter the following into the command line:\n",
    "\n",
    "```\n",
    "npm install -g create-react-app\n",
    "```\n",
    "\n",
    "You’ll see all sorts of messages appear as React gets installed, after which you should see something like this at the end:\n",
    "\n",
    "```\n",
    "+ create-react-app@4.0.0\n",
    "added 91 packages from 46 contributors in 4.769s\n",
    "```\n",
    "\n",
    "### Reinstalling Node and npm\n",
    "\n",
    "#### Windows users\n",
    "\n",
    "* First, you need to determine if the version you’re running is 32-bit or 64-bit. Do this by clicking the Start button, then select **Setting**, then **System**, then **About**.\n",
    "* At the right, under **Device specifications**, look under **System type**. You’ll see if your system is 32-bit or 64-bit — remember this!\n",
    "* [Go to the Node.js installer web page.](https://nodejs.org/en/download/) You'll see the following:\n",
    "\n",
    "![](http://www.globalnerdy.com/wp-content/uploads/2020/10/download-nodejs-installer-windows-1.png)\n",
    "\n",
    "* You want to download the appropriate version of the Windows Installer for your version of Windows:\n",
    "    * If your version of Windows is 32-bit, click on **32-bit**.\n",
    "    * If your version of Windows is 64-bit, click on **32-bit**.\n",
    "* Once you’ve downloaded the installer, run the installer. Once you’ve done that, follow the instructions shown above in the ***Installing React*** section.\n",
    "\n"
   ]
  },
  {
   "cell_type": "code",
   "execution_count": null,
   "metadata": {},
   "outputs": [],
   "source": []
  }
 ],
 "metadata": {
  "kernelspec": {
   "display_name": "Javascript (Node.js)",
   "language": "javascript",
   "name": "javascript"
  },
  "language_info": {
   "file_extension": ".js",
   "mimetype": "application/javascript",
   "name": "javascript",
   "version": "15.0.1"
  }
 },
 "nbformat": 4,
 "nbformat_minor": 4
}
