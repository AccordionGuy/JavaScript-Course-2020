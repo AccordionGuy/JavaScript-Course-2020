{
 "cells": [
  {
   "cell_type": "markdown",
   "metadata": {},
   "source": [
    "# 24: Building a Tweet in React\n",
    "\n",
    "## The goal: Use React to draw a Tweet\n",
    "\n",
    "The Tweet should look like this:\n",
    "\n",
    "![](http://www.globalnerdy.com/wp-content/uploads/2020/11/Screen-Shot-2020-11-07-at-8.28.12-AM.png)\n",
    "\n",
    "\n",
    "## Th"
   ]
  }
 ],
 "metadata": {
  "kernelspec": {
   "display_name": "Python 3",
   "language": "python",
   "name": "python3"
  },
  "language_info": {
   "codemirror_mode": {
    "name": "ipython",
    "version": 3
   },
   "file_extension": ".py",
   "mimetype": "text/x-python",
   "name": "python",
   "nbconvert_exporter": "python",
   "pygments_lexer": "ipython3",
   "version": "3.8.3"
  }
 },
 "nbformat": 4,
 "nbformat_minor": 4
}
