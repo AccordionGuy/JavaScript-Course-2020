{
 "cells": [
  {
   "cell_type": "markdown",
   "metadata": {},
   "source": [
    "# 28: Destructuring: What it is, and what it’s for\n",
    "\n",
    "## Destructuring arrays\n",
    "\n",
    "There are times when you want to copy specific elements from an array into variables. There are a couple of ways to do this.\n",
    "\n",
    "Let’s start with an array of temperatures (in degrees Fahrenheit) from a five-day weather forecast:"
   ]
  },
  {
   "cell_type": "code",
   "execution_count": 1,
   "metadata": {},
   "outputs": [],
   "source": [
    "const forecastedTemperatures = [78, 81, 82, 79, 80]"
   ]
  },
  {
   "cell_type": "markdown",
   "metadata": {},
   "source": [
    "### One way to get today’s and tomorrow’s temperatures\n",
    "\n",
    "Suppose today’s temperature is the value of `forecastedTemperatures`’ first element, and every element after that is the following day’s temperature.\n",
    "\n",
    "Let’s also suppose that we want to... \n",
    "\n",
    "* Copy today’s temperature into a variable named `todayTemp` and \n",
    "* Copy tomorrow’s temperature into a variable named `tomorrowTemp`.\n",
    "\n",
    "One way to do this is to simply access the array elements using array index notation, where **0** is the index of the first element, and **1** is the index of the second element:"
   ]
  },
  {
   "cell_type": "code",
   "execution_count": 2,
   "metadata": {},
   "outputs": [
    {
     "name": "stdout",
     "output_type": "stream",
     "text": [
      "Today’s temperature is 78 degrees.\n",
      "Tomorrow’s temperature will be 81 degrees.\n"
     ]
    }
   ],
   "source": [
    "let todayTemp = forecastedTemperatures[0]\n",
    "let tomorrowTemp = forecastedTemperatures[1]\n",
    "console.log(`Today’s temperature is ${todayTemp} degrees.`)\n",
    "console.log(`Tomorrow’s temperature will be ${tomorrowTemp} degrees.`)"
   ]
  },
  {
   "cell_type": "markdown",
   "metadata": {},
   "source": [
    "### Getting today’s and tomorrow’s temperatures using destructuring\n",
    "\n",
    "Here’s another way to get today’s and tomorrow’s temperatures, and it’s called ***destructuring***. It allows us to get copy multiple elements from an array at once, with each element assigned to its own variable.\n",
    "\n",
    "Here’s how you’d get today’s temperature into `todayTemp` and tomorrow’s temperature into `tomorrowTemp` with destructuring:"
   ]
  },
  {
   "cell_type": "code",
   "execution_count": 3,
   "metadata": {},
   "outputs": [
    {
     "name": "stdout",
     "output_type": "stream",
     "text": [
      "Today’s temperature is 78 degrees.\n",
      "Tomorrow’s temperature will be 81 degrees.\n"
     ]
    }
   ],
   "source": [
    "[todayTemp, tomorrowTemp] = forecastedTemperatures\n",
    "console.log(`Today’s temperature is ${todayTemp} degrees.`)\n",
    "console.log(`Tomorrow’s temperature will be ${tomorrowTemp} degrees.`)"
   ]
  },
  {
   "cell_type": "markdown",
   "metadata": {},
   "source": [
    "Here’s what happened:\n",
    "\n",
    "* The variables on the left side of the `=` sign are in square brackets — `[ ]`. This tells JavaScript that you want to destructure (copy values from) the array on the right side of the `=` sign.\n",
    "* Inside the square brackets are two variables: `todayTemp` and `tomorrowTemp`.\n",
    "* Since `todayTemp` is the first item inside the square brackets, it gets a copy of the value in the first element of `forecastedTemperatures`.\n",
    "* Since `tomorrowTemp` is the second item inside the square brackets, it gets a copy of the value in the second element of `forecastedTemperatures`.\n",
    "\n",
    "\n",
    "### Getting the temperatures for today and the day after tomorrow using destructuring\n",
    "\n",
    "What if we wanted today’s temperature, but instead of tomorrow’s temperature, we wanted the temperature for the day after tomorrow?\n",
    "\n",
    "We can do this simply by ignoring the second element:"
   ]
  },
  {
   "cell_type": "code",
   "execution_count": 4,
   "metadata": {},
   "outputs": [
    {
     "name": "stdout",
     "output_type": "stream",
     "text": [
      "Today’s temperature is 78 degrees.\n",
      "The day after tomorrow’s temperature will be 82 degrees.\n"
     ]
    }
   ],
   "source": [
    "// Note the \"missing variable\" between todayTemp and dayAfterTomorrowTemp\n",
    "[todayTemp, , dayAfterTomorrowTemp] = forecastedTemperatures\n",
    "console.log(`Today’s temperature is ${todayTemp} degrees.`)\n",
    "console.log(`The day after tomorrow’s temperature will be ${dayAfterTomorrowTemp} degrees.`)"
   ]
  },
  {
   "cell_type": "markdown",
   "metadata": {},
   "source": [
    "### Getting today’s temperature, tomorrow’s temperature, and all the other days’ temperatures\n",
    "\n",
    "Destructuring allows us to do more than extract several individual values from an array and copy them into variables. It also allows us to copy “the rest of the array” into a single variable too.\n",
    "\n",
    "In the example below, we’ll do the following:\n",
    "\n",
    "* Copy the value in the array’s first element into `todayTemp`\n",
    "* Copy the value in the array’s second element into `tomorrowTemp`\n",
    "* Copy the values in the rest of the arrat into `otherDaysTemp`"
   ]
  },
  {
   "cell_type": "code",
   "execution_count": 7,
   "metadata": {},
   "outputs": [
    {
     "name": "stdout",
     "output_type": "stream",
     "text": [
      "Today’s temperature is 78 degrees.\n",
      "Tomorrow’s temperature will be 81 degrees.\n",
      "The temperatures for the remaining days will be: 82,79,80\n"
     ]
    }
   ],
   "source": [
    "// Note the \"...\" that precedes otherDaysTemp\n",
    "[todayTemp, tomorrowTemp, ...otherDaysTemp] = forecastedTemperatures\n",
    "console.log(`Today’s temperature is ${todayTemp} degrees.`)\n",
    "console.log(`Tomorrow’s temperature will be ${tomorrowTemp} degrees.`)\n",
    "console.log(`The temperatures for the remaining days will be: ${otherDaysTemp}`)"
   ]
  },
  {
   "cell_type": "markdown",
   "metadata": {},
   "source": [
    "The technical term for `...otherDaysTemp` is the **rest element**, because it contains the rest of the array. The rest element is always last."
   ]
  },
  {
   "cell_type": "markdown",
   "metadata": {},
   "source": [
    "### Destructuring nested arrays\n",
    "\n",
    "Arrays can contain other arrays. When that happens, we call them **nested arrays**. You can destructure nested arrays:"
   ]
  },
  {
   "cell_type": "code",
   "execution_count": 9,
   "metadata": {},
   "outputs": [],
   "source": [
    "const sales = [[500, 600, 800, 750, 700], [650,  300, 400, 450, 900]]"
   ]
  },
  {
   "cell_type": "code",
   "execution_count": 12,
   "metadata": {},
   "outputs": [
    {
     "name": "stdout",
     "output_type": "stream",
     "text": [
      "Sales on week 1, day 1: $500.\n",
      "Sales on week 1, day 3: $800.\n",
      "Sales on week 2, day 2: $300.\n",
      "Sales for rest of week 2: $400,$450,$900.\n"
     ]
    }
   ],
   "source": [
    "[[week1Day1, , week1Day3], [, week2Day2, ...restOfWeek2]] = sales\n",
    "console.log(`Sales on week 1, day 1: $${week1Day1}.`)\n",
    "console.log(`Sales on week 1, day 3: $${week1Day3}.`)\n",
    "console.log(`Sales on week 2, day 2: $${week2Day2}.`)\n",
    "console.log(`Sales for rest of week 2: ${restOfWeek2.map(amount => `$${amount}`)}.`)"
   ]
  },
  {
   "cell_type": "markdown",
   "metadata": {},
   "source": [
    "## Destructuring objects\n",
    "\n",
    "There are also times when you want to copy specific properties from an object into variables. As with arrays, there are a couple of ways to do this."
   ]
  },
  {
   "cell_type": "code",
   "execution_count": null,
   "metadata": {},
   "outputs": [],
   "source": []
  }
 ],
 "metadata": {
  "kernelspec": {
   "display_name": "Javascript (Node.js)",
   "language": "javascript",
   "name": "javascript"
  },
  "language_info": {
   "file_extension": ".js",
   "mimetype": "application/javascript",
   "name": "javascript",
   "version": "14.15.0"
  }
 },
 "nbformat": 4,
 "nbformat_minor": 4
}
