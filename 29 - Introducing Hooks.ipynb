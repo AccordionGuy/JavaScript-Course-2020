{
 "cells": [
  {
   "cell_type": "markdown",
   "metadata": {},
   "source": [
    "# 29: Introducing Hooks\n",
    "\n"
   ]
  },
  {
   "cell_type": "markdown",
   "metadata": {},
   "source": [
    "```\n",
    "import React from 'react';\n",
    "import ReactDOM from 'react-dom';\n",
    "\n",
    "class OneTimeButton extends React.Component { \n",
    "  \n",
    "  state = {\n",
    "    clicked: false \n",
    "  }\n",
    "\n",
    "  handleClick = () => {\n",
    "    // The handler won't be called if the button // is disabled, so if we got here, it's safe // to trigger the click. this.props.onClick();\n",
    "    // Ok, no more clicking.\n",
    "    this.setState({ clicked: true })\n",
    "  }\n",
    "  \n",
    "  render() { \n",
    "    return (\n",
    "      <button \n",
    "        onClick={this.handleClick} \n",
    "        disabled={this.state.clicked}\n",
    "      >\n",
    "        You can only click me once!\n",
    "      </button>\n",
    "    )\n",
    "  }\n",
    "\n",
    "} \n",
    "\n",
    "ReactDOM.render(\n",
    "  <OneTimeButton onClick={() => alert(\"hi\")}/>,\n",
    "  document.querySelector('#root')\n",
    ")\n",
    "```"
   ]
  },
  {
   "cell_type": "code",
   "execution_count": null,
   "metadata": {},
   "outputs": [],
   "source": []
  }
 ],
 "metadata": {
  "kernelspec": {
   "display_name": "Javascript (Node.js)",
   "language": "javascript",
   "name": "javascript"
  },
  "language_info": {
   "file_extension": ".js",
   "mimetype": "application/javascript",
   "name": "javascript",
   "version": "14.15.0"
  }
 },
 "nbformat": 4,
 "nbformat_minor": 4
}
