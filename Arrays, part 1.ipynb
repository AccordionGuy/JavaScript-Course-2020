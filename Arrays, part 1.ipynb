{
 "cells": [
  {
   "cell_type": "markdown",
   "metadata": {},
   "source": [
    "## Creating an empty array"
   ]
  },
  {
   "cell_type": "code",
   "execution_count": 1,
   "metadata": {},
   "outputs": [
    {
     "name": "stdout",
     "output_type": "stream",
     "text": [
      "[]\n"
     ]
    }
   ],
   "source": [
    "let myArray = []\n",
    "console.log(myArray)"
   ]
  },
  {
   "cell_type": "markdown",
   "metadata": {},
   "source": [
    "## Creating an array, given some elements\n",
    "\n",
    "Let’s create an array named `flavors`, a list of ice cream flavors. It contains the following strings in the given order:\n",
    "\n",
    "* vanilla\n",
    "* chocolate\n",
    "* strawberry\n",
    "* jamoca\n",
    "* rum raisin"
   ]
  },
  {
   "cell_type": "code",
   "execution_count": 3,
   "metadata": {},
   "outputs": [
    {
     "name": "stdout",
     "output_type": "stream",
     "text": [
      "[ 'vanilla', 'chocolate', 'strawberry', 'jamoca', 'rum raisin' ]\n"
     ]
    }
   ],
   "source": [
    "let flavors = [\"vanilla\", \"chocolate\", \"strawberry\", \"jamoca\", \"rum raisin\"]\n",
    "console.log(flavors)"
   ]
  },
  {
   "cell_type": "markdown",
   "metadata": {},
   "source": [
    "## How many elements in the array?: `length`\n",
    "\n",
    "Use the `length` property to get the number of items in an array."
   ]
  },
  {
   "cell_type": "code",
   "execution_count": 4,
   "metadata": {},
   "outputs": [
    {
     "name": "stdout",
     "output_type": "stream",
     "text": [
      "There are 5 flavors in the array.\n"
     ]
    }
   ],
   "source": [
    "console.log(`There are ${flavors.length} flavors in the array.`)"
   ]
  },
  {
   "cell_type": "markdown",
   "metadata": {},
   "source": [
    "## Getting the value of a specific element in the array: *`arrayName`*`[`*`index`*`]`\n",
    "\n",
    "Use the array’s name followed by the item’s index (its position in the array, which is a number) in square brackets to get the value of a specific item in the array. \n",
    "\n",
    "For example, if you have an array named `my_array` and want to get the value stored at index `2`, you would use `my_array[2]`.\n",
    "\n",
    "Remember that in array indexes start at `0`."
   ]
  },
  {
   "cell_type": "code",
   "execution_count": 5,
   "metadata": {},
   "outputs": [
    {
     "name": "stdout",
     "output_type": "stream",
     "text": [
      "vanilla\n",
      "chocolate\n",
      "My favorite flavor is jamoca.\n"
     ]
    }
   ],
   "source": [
    "console.log(flavors[0]) // The index of the first element in an array is 0, not 1.\n",
    "console.log(flavors[1]) // flavors[1] is the *second* element in the array.\n",
    "\n",
    "let message = `My favorite flavor is ${flavors[3]}.`\n",
    "console.log(message) // Outputs \"My favorite flavor is jamoca.\""
   ]
  },
  {
   "cell_type": "markdown",
   "metadata": {},
   "source": [
    "## Changing the value of a specific element in the array: *`arrayName`*`[`*`index`*`] = `*`new_value`*\n",
    "\n",
    "What if we wanted to change the second flavor in the array to mint chocolate chip?\n",
    "\n",
    "You’d do that by assigning a new value to `flavors[1]`, the second item in the array."
   ]
  },
  {
   "cell_type": "code",
   "execution_count": 6,
   "metadata": {},
   "outputs": [
    {
     "name": "stdout",
     "output_type": "stream",
     "text": [
      "[ 'vanilla',\n",
      "  'mint chocolate chip',\n",
      "  'strawberry',\n",
      "  'jamoca',\n",
      "  'rum raisin' ]\n"
     ]
    }
   ],
   "source": [
    "flavors[1] = \"mint chocolate chip\" // Changes the flavor at index 1 from chocolate\n",
    "                                   // to mint chocolate chip. \n",
    "console.log(flavors)"
   ]
  },
  {
   "cell_type": "markdown",
   "metadata": {},
   "source": [
    "## Adding a new item(s) to the end of the array: *`arrayName`*`.push(`*`item(s)`*`)`\n",
    "\n",
    "The `push()` method does two things:\n",
    "\n",
    "* It takes one or more items and adds it/them to the end of the array.\n",
    "* It returns the new number of items in the array."
   ]
  },
  {
   "cell_type": "code",
   "execution_count": 7,
   "metadata": {},
   "outputs": [
    {
     "name": "stdout",
     "output_type": "stream",
     "text": [
      "[ 'vanilla',\n",
      "  'mint chocolate chip',\n",
      "  'strawberry',\n",
      "  'jamoca',\n",
      "  'rum raisin',\n",
      "  'pistachio' ]\n"
     ]
    }
   ],
   "source": [
    "// Using push() to simply add an item to the end of the array\n",
    "flavors.push('pistachio') // Adds a new flavor, pistachio, to the end of the array.\n",
    "console.log(flavors)"
   ]
  },
  {
   "cell_type": "code",
   "execution_count": 8,
   "metadata": {},
   "outputs": [
    {
     "name": "stdout",
     "output_type": "stream",
     "text": [
      "There are now 9 flavors:\n",
      "[ 'vanilla',\n",
      "  'mint chocolate chip',\n",
      "  'strawberry',\n",
      "  'jamoca',\n",
      "  'rum raisin',\n",
      "  'pistachio',\n",
      "  'pralines and cream',\n",
      "  'bubble gum',\n",
      "  'maple bacon' ]\n"
     ]
    }
   ],
   "source": [
    "// Using push() to add a number of items to the end of the array\n",
    "// and get the new number of items in the array\n",
    "let count = flavors.push('pralines and cream', 'bubble gum', 'maple bacon')\n",
    "console.log(`There are now ${count} flavors:`)\n",
    "console.log(flavors)"
   ]
  },
  {
   "cell_type": "markdown",
   "metadata": {},
   "source": [
    "## Removing an item from the end of the array: *`arrayName`*`.pop()`\n",
    "\n",
    "The `pop()` method does two things:\n",
    "\n",
    "* It removes the item the end of the array.\n",
    "* It returns the item that was just removed."
   ]
  },
  {
   "cell_type": "code",
   "execution_count": 9,
   "metadata": {},
   "outputs": [
    {
     "name": "stdout",
     "output_type": "stream",
     "text": [
      "[ 'vanilla',\n",
      "  'mint chocolate chip',\n",
      "  'strawberry',\n",
      "  'jamoca',\n",
      "  'rum raisin',\n",
      "  'pistachio',\n",
      "  'pralines and cream',\n",
      "  'bubble gum' ]\n"
     ]
    }
   ],
   "source": [
    "// Using pop() to simply remove an item from the end of the array\n",
    "flavors.pop() // Removes the flavor at the end of the array\n",
    "console.log(flavors)"
   ]
  },
  {
   "cell_type": "code",
   "execution_count": 10,
   "metadata": {},
   "outputs": [
    {
     "name": "stdout",
     "output_type": "stream",
     "text": [
      "Removed bubble gum from the array.\n",
      "[ 'vanilla',\n",
      "  'mint chocolate chip',\n",
      "  'strawberry',\n",
      "  'jamoca',\n",
      "  'rum raisin',\n",
      "  'pistachio',\n",
      "  'pralines and cream' ]\n"
     ]
    }
   ],
   "source": [
    "// Using pop() to remove an item from the end of the array\n",
    "// and retrieve the newly-removed item\n",
    "let removedFlavor = flavors.pop()\n",
    "console.log(`Removed ${removedFlavor} from the array.`)\n",
    "console.log(flavors)"
   ]
  },
  {
   "cell_type": "markdown",
   "metadata": {},
   "source": [
    "## Adding a new item(s) to the start of the array: *`arrayName`*`.unshift(`*`item(s)`*`)`\n",
    "\n",
    "The `unshift()` method does two things:\n",
    "\n",
    "* It takes one or more items and adds it/them to the start of the array.\n",
    "* It returns the new number of items in the array."
   ]
  },
  {
   "cell_type": "code",
   "execution_count": 11,
   "metadata": {},
   "outputs": [
    {
     "name": "stdout",
     "output_type": "stream",
     "text": [
      "[ 'vanilla',\n",
      "  'mint chocolate chip',\n",
      "  'strawberry',\n",
      "  'jamoca',\n",
      "  'rum raisin',\n",
      "  'pistachio',\n",
      "  'pralines and cream',\n",
      "  'mango' ]\n"
     ]
    }
   ],
   "source": [
    "// Using unshift() to simply add an item to the start of the array\n",
    "flavors.push('mango') // Adds a new flavor, mango, to the start of the array.\n",
    "console.log(flavors)"
   ]
  },
  {
   "cell_type": "code",
   "execution_count": 12,
   "metadata": {},
   "outputs": [
    {
     "name": "stdout",
     "output_type": "stream",
     "text": [
      "There are now 10 flavors:\n",
      "[ 'cake batter',\n",
      "  'butterscotch',\n",
      "  'vanilla',\n",
      "  'mint chocolate chip',\n",
      "  'strawberry',\n",
      "  'jamoca',\n",
      "  'rum raisin',\n",
      "  'pistachio',\n",
      "  'pralines and cream',\n",
      "  'mango' ]\n"
     ]
    }
   ],
   "source": [
    "// Using unshift() to add a number of items to the start of the array\n",
    "// and get the new number of items in the array\n",
    "count = flavors.unshift('cake batter', 'butterscotch')\n",
    "console.log(`There are now ${count} flavors:`)\n",
    "console.log(flavors)"
   ]
  },
  {
   "cell_type": "markdown",
   "metadata": {},
   "source": [
    "## Removing an item from the start of the array: *`arrayName`*`.shift()`\n",
    "\n",
    "The `shift()` method does two things:\n",
    "\n",
    "* It removes the item the start of the array.\n",
    "* It returns the item that was just removed."
   ]
  },
  {
   "cell_type": "code",
   "execution_count": 13,
   "metadata": {},
   "outputs": [
    {
     "name": "stdout",
     "output_type": "stream",
     "text": [
      "[ 'butterscotch',\n",
      "  'vanilla',\n",
      "  'mint chocolate chip',\n",
      "  'strawberry',\n",
      "  'jamoca',\n",
      "  'rum raisin',\n",
      "  'pistachio',\n",
      "  'pralines and cream',\n",
      "  'mango' ]\n"
     ]
    }
   ],
   "source": [
    "// Using shift() to simply remove an item from the start of the array\n",
    "flavors.shift() // Removes the flavor at the start of the array\n",
    "console.log(flavors)"
   ]
  },
  {
   "cell_type": "code",
   "execution_count": 14,
   "metadata": {},
   "outputs": [
    {
     "name": "stdout",
     "output_type": "stream",
     "text": [
      "Removed butterscotch from the array.\n",
      "[ 'vanilla',\n",
      "  'mint chocolate chip',\n",
      "  'strawberry',\n",
      "  'jamoca',\n",
      "  'rum raisin',\n",
      "  'pistachio',\n",
      "  'pralines and cream',\n",
      "  'mango' ]\n"
     ]
    }
   ],
   "source": [
    "// Using shift() to remove an item from the start of the array\n",
    "// and retrieve the newly-removed item\n",
    "removedFlavor = flavors.shift()\n",
    "console.log(`Removed ${removedFlavor} from the array.`)\n",
    "console.log(flavors)"
   ]
  },
  {
   "cell_type": "markdown",
   "metadata": {},
   "source": [
    "## Is a given value in the array?: *`arrayName`*`.includes(`*`value`*`)`\n",
    "\n",
    "Before we continue, let's redefine the array of flavors:"
   ]
  },
  {
   "cell_type": "code",
   "execution_count": 15,
   "metadata": {},
   "outputs": [
    {
     "data": {
      "text/plain": [
       "[ 'acai',\n",
       "  'bubble gum',\n",
       "  'cookie dough',\n",
       "  'green tea',\n",
       "  'green tea',\n",
       "  'lemon sherbet' ]"
      ]
     },
     "execution_count": 15,
     "metadata": {},
     "output_type": "execute_result"
    }
   ],
   "source": [
    "// Note that green tea appears twice in the array. This is intentional.\n",
    "flavors = [\"acai\", \"bubble gum\", \"cookie dough\", \"green tea\", \"green tea\", \"lemon sherbet\"]"
   ]
  },
  {
   "cell_type": "markdown",
   "metadata": {},
   "source": [
    "Use the `includes` method to see if an element is in an array."
   ]
  },
  {
   "cell_type": "code",
   "execution_count": 16,
   "metadata": {},
   "outputs": [
    {
     "name": "stdout",
     "output_type": "stream",
     "text": [
      "Is green tea in the array?: true\n",
      "Is cappucino in the array?: false\n"
     ]
    }
   ],
   "source": [
    "console.log(`Is green tea in the array?: ${flavors.includes(\"green tea\")}`)\n",
    "console.log(`Is cappucino in the array?: ${flavors.includes(\"cappucino\")}`)"
   ]
  },
  {
   "cell_type": "markdown",
   "metadata": {},
   "source": [
    "## Where does a given value appear in the array?: *`arrayName`*`.indexOf(`*`value`*`)`\n",
    "\n",
    "The `indexOf()` method gets the index of the first occurrence of a given value in the array, or `-1` if the value isn’t anywhere in the array."
   ]
  },
  {
   "cell_type": "code",
   "execution_count": 17,
   "metadata": {},
   "outputs": [
    {
     "name": "stdout",
     "output_type": "stream",
     "text": [
      "The index of green tea in the array is 3.\n",
      "The index of rocky road in the array is -1.\n"
     ]
    }
   ],
   "source": [
    "console.log(`The index of green tea in the array is ${flavors.indexOf(\"green tea\")}.`)\n",
    "console.log(`The index of rocky road in the array is ${flavors.indexOf(\"rocky road\")}.`)"
   ]
  },
  {
   "cell_type": "markdown",
   "metadata": {},
   "source": [
    "## Sorting the array: *`arrayName`*`.sort()`\n",
    "\n",
    "The `sort()` method does two things:\n",
    "\n",
    "* It sorts the array’s elements in place — that is, it changes the original array.\n",
    "* It returns the sorted array."
   ]
  },
  {
   "cell_type": "code",
   "execution_count": 18,
   "metadata": {},
   "outputs": [
    {
     "name": "stdout",
     "output_type": "stream",
     "text": [
      "The original array, flavors:\n",
      "[ 'acai',\n",
      "  'bubble gum',\n",
      "  'cookie dough',\n",
      "  'green tea',\n",
      "  'green tea',\n",
      "  'lemon sherbet' ]\n",
      "The sorted array, sortedFlavors:\n",
      "[ 'acai',\n",
      "  'bubble gum',\n",
      "  'cookie dough',\n",
      "  'green tea',\n",
      "  'green tea',\n",
      "  'lemon sherbet' ]\n"
     ]
    }
   ],
   "source": [
    "let sortedFlavors = flavors.sort()\n",
    "console.log(\"The original array, flavors:\")\n",
    "console.log(flavors)\n",
    "console.log(\"The sorted array, sortedFlavors:\")\n",
    "console.log(sortedFlavors)"
   ]
  },
  {
   "cell_type": "code",
   "execution_count": 19,
   "metadata": {},
   "outputs": [
    {
     "name": "stdout",
     "output_type": "stream",
     "text": [
      "[ 'lemon sherbet',\n",
      "  'green tea',\n",
      "  'green tea',\n",
      "  'cookie dough',\n",
      "  'bubble gum',\n",
      "  'acai' ]\n",
      "[ 'lemon sherbet',\n",
      "  'green tea',\n",
      "  'green tea',\n",
      "  'cookie dough',\n",
      "  'bubble gum',\n",
      "  'acai' ]\n"
     ]
    }
   ],
   "source": [
    "sortedFlavors.reverse()\n",
    "console.log(sortedFlavors)\n",
    "console.log(flavors)"
   ]
  },
  {
   "cell_type": "code",
   "execution_count": 20,
   "metadata": {},
   "outputs": [
    {
     "name": "stdout",
     "output_type": "stream",
     "text": [
      "[ 'lemon sherbet',\n",
      "  'green tea',\n",
      "  'green tea',\n",
      "  'cookie dough',\n",
      "  'bubble gum' ]\n",
      "[ 'lemon sherbet',\n",
      "  'green tea',\n",
      "  'green tea',\n",
      "  'cookie dough',\n",
      "  'bubble gum' ]\n"
     ]
    }
   ],
   "source": [
    "let newFlavors = flavors\n",
    "flavors.pop()\n",
    "console.log(flavors)\n",
    "console.log(newFlavors)"
   ]
  },
  {
   "cell_type": "markdown",
   "metadata": {},
   "source": [
    "## Reversing the array: *`arrayName`*`.reverse()`\n",
    "\n",
    "The `reverse()` method does two things:\n",
    "\n",
    "* It sorts the array’s elements in place.\n",
    "* It returns the sorted array."
   ]
  },
  {
   "cell_type": "code",
   "execution_count": null,
   "metadata": {},
   "outputs": [],
   "source": []
  },
  {
   "cell_type": "markdown",
   "metadata": {},
   "source": [
    "## Exercise 1: Minimum\n",
    "\n",
    "### The challenge\n",
    "\n"
   ]
  },
  {
   "cell_type": "code",
   "execution_count": 21,
   "metadata": {},
   "outputs": [
    {
     "name": "stdout",
     "output_type": "stream",
     "text": [
      "[ 1, 2, 3, 4, 5, 6, 7, 8, 9, 10 ]\n"
     ]
    }
   ],
   "source": [
    "function range(start, end) {\n",
    "    result = []\n",
    "    for (let number = start; number <= end; number++) {\n",
    "        result.push(number)\n",
    "    }\n",
    "    return result\n",
    "}\n",
    "\n",
    "console.log(range(1, 10))"
   ]
  },
  {
   "cell_type": "code",
   "execution_count": 22,
   "metadata": {},
   "outputs": [
    {
     "name": "stdout",
     "output_type": "stream",
     "text": [
      "55\n"
     ]
    }
   ],
   "source": [
    "function sum(numbers) {\n",
    "    result = 0\n",
    "    for (const number of numbers) {\n",
    "        result += number\n",
    "    }\n",
    "    return result\n",
    "}\n",
    "\n",
    "console.log(sum(range(1, 10)))"
   ]
  },
  {
   "cell_type": "code",
   "execution_count": 23,
   "metadata": {},
   "outputs": [
    {
     "name": "stdout",
     "output_type": "stream",
     "text": [
      "[ 'C', 'B', 'A' ]\n"
     ]
    }
   ],
   "source": [
    "function reverseArray(theArray) {\n",
    "    result = []\n",
    "    for (let index = theArray.length - 1; index >= 0; index --) {\n",
    "        result.push(theArray[index])\n",
    "    }\n",
    "    return result\n",
    "}\n",
    "\n",
    "console.log(reverseArray([\"A\", \"B\", \"C\"]));"
   ]
  },
  {
   "cell_type": "code",
   "execution_count": 24,
   "metadata": {},
   "outputs": [
    {
     "name": "stdout",
     "output_type": "stream",
     "text": [
      "[ 'F', 'E', 'D', 'C', 'B', 'A' ]\n"
     ]
    }
   ],
   "source": [
    "function reverseArrayInPlace(theArray) {\n",
    "    let startIndex = 0\n",
    "    let endIndex = theArray.length -1\n",
    "    while (startIndex < endIndex) {\n",
    "        let temp = theArray[endIndex]\n",
    "        theArray[endIndex] = theArray[startIndex]\n",
    "        theArray[startIndex] = temp\n",
    "        \n",
    "        startIndex++\n",
    "        endIndex--        \n",
    "    }\n",
    "}\n",
    "\n",
    "let x = [\"A\", \"B\", \"C\", \"D\", \"E\", \"F\"]\n",
    "reverseArrayInPlace(x)\n",
    "console.log(x)"
   ]
  },
  {
   "cell_type": "code",
   "execution_count": null,
   "metadata": {},
   "outputs": [],
   "source": []
  }
 ],
 "metadata": {
  "kernelspec": {
   "display_name": "Javascript (Node.js)",
   "language": "javascript",
   "name": "javascript"
  },
  "language_info": {
   "file_extension": ".js",
   "mimetype": "application/javascript",
   "name": "javascript",
   "version": "8.10.0"
  }
 },
 "nbformat": 4,
 "nbformat_minor": 4
}
