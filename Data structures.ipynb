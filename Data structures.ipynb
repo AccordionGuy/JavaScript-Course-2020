{
 "cells": [
  {
   "cell_type": "markdown",
   "metadata": {},
   "source": [
    "## Creating a list\n",
    "\n",
    "Let’s create an array named `flavors`, a list of ice cream flavors. It contains the following strings in the given order:\n",
    "\n",
    "* vanilla\n",
    "* chocolate\n",
    "* strawberry\n",
    "* jamoca\n",
    "* rum raisin"
   ]
  },
  {
   "cell_type": "code",
   "execution_count": 4,
   "metadata": {},
   "outputs": [
    {
     "name": "stdout",
     "output_type": "stream",
     "text": [
      "[ 'vanilla', 'chocolate', 'strawberry', 'jamoca', 'rum raisin' ]\n"
     ]
    }
   ],
   "source": [
    "flavors = [\"vanilla\", \"chocolate\", \"strawberry\", \"jamoca\", \"rum raisin\"]\n",
    "console.log(flavors)"
   ]
  },
  {
   "cell_type": "markdown",
   "metadata": {},
   "source": [
    "## Number of items in the list: `length`\n",
    "\n",
    "Use the `length` property, whose name is short for length, to get the number of items in a list."
   ]
  },
  {
   "cell_type": "code",
   "execution_count": 5,
   "metadata": {},
   "outputs": [
    {
     "name": "stdout",
     "output_type": "stream",
     "text": [
      "There are 5 flavors in the array.\n"
     ]
    }
   ],
   "source": [
    "console.log(`There are ${flavors.length} flavors in the array.`)"
   ]
  },
  {
   "cell_type": "markdown",
   "metadata": {},
   "source": [
    "## Exercise 1: Minimum\n",
    "\n",
    "### The challenge\n",
    "\n"
   ]
  },
  {
   "cell_type": "code",
   "execution_count": null,
   "metadata": {},
   "outputs": [],
   "source": [
    "function range(start, end) {\n",
    "    result = []\n",
    "    for (let number = start; number <= end; number++) {\n",
    "        result.push(number)\n",
    "    }\n",
    "    return result\n",
    "}\n",
    "\n",
    "console.log(range(1, 10))"
   ]
  },
  {
   "cell_type": "code",
   "execution_count": null,
   "metadata": {},
   "outputs": [],
   "source": [
    "function sum(numbers) {\n",
    "    result = 0\n",
    "    for (const number of numbers) {\n",
    "        result += number\n",
    "    }\n",
    "    return result\n",
    "}\n",
    "\n",
    "console.log(sum(range(1, 10)))"
   ]
  },
  {
   "cell_type": "code",
   "execution_count": null,
   "metadata": {},
   "outputs": [],
   "source": [
    "function reverseArray(theArray) {\n",
    "    result = []\n",
    "    for (let index = theArray.length - 1; index >= 0; index --) {\n",
    "        result.push(theArray[index])\n",
    "    }\n",
    "    return result\n",
    "}\n",
    "\n",
    "console.log(reverseArray([\"A\", \"B\", \"C\"]));"
   ]
  },
  {
   "cell_type": "code",
   "execution_count": 1,
   "metadata": {},
   "outputs": [
    {
     "name": "stdout",
     "output_type": "stream",
     "text": [
      "[ 'F', 'E', 'D', 'C', 'B', 'A' ]\n"
     ]
    }
   ],
   "source": [
    "function reverseArrayInPlace(theArray) {\n",
    "    let startIndex = 0\n",
    "    let endIndex = theArray.length -1\n",
    "    while (startIndex < endIndex) {\n",
    "        let temp = theArray[endIndex]\n",
    "        theArray[endIndex] = theArray[startIndex]\n",
    "        theArray[startIndex] = temp\n",
    "        \n",
    "        startIndex++\n",
    "        endIndex--        \n",
    "    }\n",
    "}\n",
    "\n",
    "let x = [\"A\", \"B\", \"C\", \"D\", \"E\", \"F\"]\n",
    "reverseArrayInPlace(x)\n",
    "console.log(x)"
   ]
  },
  {
   "cell_type": "code",
   "execution_count": null,
   "metadata": {},
   "outputs": [],
   "source": []
  }
 ],
 "metadata": {
  "kernelspec": {
   "display_name": "Javascript (Node.js)",
   "language": "javascript",
   "name": "javascript"
  },
  "language_info": {
   "file_extension": ".js",
   "mimetype": "application/javascript",
   "name": "javascript",
   "version": "8.10.0"
  }
 },
 "nbformat": 4,
 "nbformat_minor": 4
}
