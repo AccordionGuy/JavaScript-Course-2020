{
 "cells": [
  {
   "cell_type": "markdown",
   "metadata": {},
   "source": [
    "## Simple decision making with `if`"
   ]
  },
  {
   "cell_type": "code",
   "execution_count": 2,
   "metadata": {},
   "outputs": [
    {
     "name": "stdout",
     "output_type": "stream",
     "text": [
      "Nice score! Achievement unlocked.\n"
     ]
    }
   ],
   "source": [
    "// Change these values to see a different result\n",
    "const userIsSubscriber = false\n",
    "const score = 750\n",
    "\n",
    "if (userIsSubscriber) {\n",
    "    console.log(\"Welcome back, subscriber!\")\n",
    "}\n",
    "\n",
    "if (score >= 700) {\n",
    "    console.log(\"Nice score! Achievement unlocked.\")\n",
    "}"
   ]
  },
  {
   "cell_type": "markdown",
   "metadata": {},
   "source": [
    "## Two outcomes with `if` and `else`"
   ]
  },
  {
   "cell_type": "code",
   "execution_count": 3,
   "metadata": {},
   "outputs": [
    {
     "name": "stdout",
     "output_type": "stream",
     "text": [
      "This feature is available only to subscribers.\n",
      "Nice score! Achievement unlocked.\n"
     ]
    }
   ],
   "source": [
    "if (userIsSubscriber) {\n",
    "    console.log(\"Welcome back, subscriber!\")\n",
    "} else {\n",
    "    console.log(\"This feature is available only to subscribers.\")\n",
    "}\n",
    "\n",
    "if (score >= 700) {\n",
    "    console.log(\"Nice score! Achievement unlocked.\")\n",
    "} else {\n",
    "    console.log(\"Keep working on that score.\")\n",
    "}"
   ]
  },
  {
   "cell_type": "markdown",
   "metadata": {},
   "source": [
    "## Multiple outcomes with `if`, `else if`, and `else`"
   ]
  },
  {
   "cell_type": "code",
   "execution_count": 4,
   "metadata": {},
   "outputs": [
    {
     "name": "stdout",
     "output_type": "stream",
     "text": [
      "Nice score! Achievement unlocked.\n"
     ]
    }
   ],
   "source": [
    "if (score >= 700) {\n",
    "    console.log(\"Nice score! Achievement unlocked.\")\n",
    "} else if (score >= 600) {\n",
    "    console.log(\"You're close to unlocking an achievement.\")\n",
    "} else {\n",
    "    console.log(\"Keep working on that score.\")\n",
    "}"
   ]
  },
  {
   "cell_type": "markdown",
   "metadata": {},
   "source": [
    "## More complex outcomes with nested `if` statements"
   ]
  },
  {
   "cell_type": "code",
   "execution_count": 5,
   "metadata": {},
   "outputs": [
    {
     "name": "stdout",
     "output_type": "stream",
     "text": [
      "This feature is available only to subscribers.\n"
     ]
    }
   ],
   "source": [
    "if (userIsSubscriber) {\n",
    "    if (score >= 700) {\n",
    "        console.log(\"Nice score! Achievement unlocked.\")\n",
    "    } else if (score >= 600) {\n",
    "        console.log(\"You're close to unlocking an achievement.\")\n",
    "    } else {\n",
    "        console.log(\"Keep working on that score.\")\n",
    "    }\n",
    "} else {\n",
    "    console.log(\"This feature is available only to subscribers.\")\n",
    "}"
   ]
  },
  {
   "cell_type": "code",
   "execution_count": null,
   "metadata": {},
   "outputs": [],
   "source": []
  }
 ],
 "metadata": {
  "kernelspec": {
   "display_name": "Javascript (Node.js)",
   "language": "javascript",
   "name": "javascript"
  },
  "language_info": {
   "file_extension": ".js",
   "mimetype": "application/javascript",
   "name": "javascript",
   "version": "8.10.0"
  }
 },
 "nbformat": 4,
 "nbformat_minor": 4
}
