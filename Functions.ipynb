{
 "cells": [
  {
   "cell_type": "markdown",
   "metadata": {},
   "source": [
    "## Exercise 1: Minimum\n",
    "\n",
    "### The challenge\n",
    "\n",
    "Write a function `min()` that takes two arguments and returns their minimum.\n",
    "\n",
    "```\n",
    "console.log(min(0, 10));\n",
    "// → 0\n",
    "console.log(min(0, -10));\n",
    "// → -10\n",
    "```"
   ]
  },
  {
   "cell_type": "code",
   "execution_count": 1,
   "metadata": {},
   "outputs": [
    {
     "name": "stdout",
     "output_type": "stream",
     "text": [
      "Testing min(0, 10):\n",
      "0\n",
      "Testing min(0, -10):\n",
      "-10\n"
     ]
    }
   ],
   "source": [
    "function min(num1, num2) {\n",
    "    if (num1 <= num2) {\n",
    "        return num1\n",
    "    } else {\n",
    "        return num2\n",
    "    }\n",
    "}\n",
    "\n",
    "console.log(\"Testing min(0, 10):\")\n",
    "console.log(min(0, 10))\n",
    "console.log(\"Testing min(0, -10):\")\n",
    "console.log(min(0, -10))"
   ]
  },
  {
   "cell_type": "markdown",
   "metadata": {},
   "source": [
    "## Exercise 2: Recursion\n",
    "\n",
    "### The challenge\n",
    "\n",
    "We’ve seen that `%` (the remainder operator) can be used to test whether a number is even or odd by using `% 2` to see whether it’s divisible by two. Here’s another way to define whether a positive whole number is even or odd:\n",
    "\n",
    "Zero is even.\n",
    "\n",
    "One is odd.\n",
    "\n",
    "For any other number N, its evenness is the same as N - 2.\n",
    "\n",
    "Define a recursive function isEven corresponding to this description. The function should accept a single parameter (a positive, whole number) and return a Boolean.\n",
    "\n",
    "Test it on 50 and 75. See how it behaves on -1. Why? Can you think of a way to fix this?\n",
    "\n",
    "```\n",
    "// Your code here.\n",
    "\n",
    "console.log(isEven(50));\n",
    "// → true\n",
    "console.log(isEven(75));\n",
    "// → false\n",
    "console.log(isEven(-1));\n",
    "// → ??\n",
    "```"
   ]
  },
  {
   "cell_type": "code",
   "execution_count": 7,
   "metadata": {},
   "outputs": [
    {
     "name": "stdout",
     "output_type": "stream",
     "text": [
      "Testing isEven(50):\n",
      "true\n",
      "Testing isEven(75):\n",
      "false\n",
      "Testing improvedIsEven(50):\n",
      "true\n",
      "Testing improvedIsEven(75):\n",
      "false\n",
      "Testing improvedIsEven(-1):\n",
      "false\n",
      "Testing improvedIsEven(-50):\n",
      "true\n",
      "Testing improvedIsEven(-75):\n",
      "false\n"
     ]
    }
   ],
   "source": [
    "function isEven(number) {\n",
    "    if (number === 0) {\n",
    "        return true\n",
    "    } else if (number === 1) {\n",
    "        return false\n",
    "    } else {\n",
    "        return isEven(number - 2)\n",
    "    }\n",
    "}\n",
    "\n",
    "console.log(\"Testing isEven(50):\")\n",
    "console.log(isEven(50))\n",
    "console.log(\"Testing isEven(75):\")\n",
    "console.log(isEven(75))\n",
    "\n",
    "function improvedIsEven(number) {\n",
    "    const absoluteNumber = Math.abs(number)\n",
    "    if (absoluteNumber === 0) {\n",
    "        return true\n",
    "    } else if (absoluteNumber === 1) {\n",
    "        return false\n",
    "    } else {\n",
    "        return improvedIsEven(absoluteNumber - 2)\n",
    "    }\n",
    "}\n",
    "\n",
    "console.log(\"Testing improvedIsEven(50):\")\n",
    "console.log(improvedIsEven(50))\n",
    "console.log(\"Testing improvedIsEven(75):\")\n",
    "console.log(improvedIsEven(75))\n",
    "console.log(\"Testing improvedIsEven(-1):\")\n",
    "console.log(improvedIsEven(-1))\n",
    "console.log(\"Testing improvedIsEven(-50):\")\n",
    "console.log(improvedIsEven(-50))\n",
    "console.log(\"Testing improvedIsEven(-75):\")\n",
    "console.log(improvedIsEven(-75))"
   ]
  },
  {
   "cell_type": "markdown",
   "metadata": {},
   "source": [
    "## Exercise 3: Bean counting\n",
    "\n",
    "### The challenge\n",
    "\n"
   ]
  },
  {
   "cell_type": "code",
   "execution_count": 11,
   "metadata": {},
   "outputs": [
    {
     "name": "stdout",
     "output_type": "stream",
     "text": [
      "Testing countBs(\"Billy Bob Buchanan\"):\n",
      "3\n",
      "Testing countChar(\"kakkerlak\", \"k\"):\n",
      "4\n"
     ]
    }
   ],
   "source": [
    "function countBs(text) {\n",
    "    count = 0\n",
    "    for (let charIndex = 0; charIndex < text.length; charIndex++) {\n",
    "        if (text[charIndex] === \"B\") {\n",
    "            count++\n",
    "        }\n",
    "    }\n",
    "    return count\n",
    "}\n",
    "\n",
    "console.log(\"Testing countBs(\\\"Billy Bob Buchanan\\\"):\")\n",
    "console.log(countBs(\"Billy Bob Buchanan\"))\n",
    "\n",
    "function countChar(text, character) {\n",
    "    count = 0\n",
    "    for (let charIndex = 0; charIndex < text.length; charIndex++) {\n",
    "        if (text[charIndex] === character) {\n",
    "            count++\n",
    "        }\n",
    "    }\n",
    "    return count\n",
    "}\n",
    "\n",
    "console.log(\"Testing countChar(\\\"kakkerlak\\\", \\\"k\\\"):\")\n",
    "console.log(countChar(\"kakkerlak\", \"k\"))"
   ]
  },
  {
   "cell_type": "code",
   "execution_count": null,
   "metadata": {},
   "outputs": [],
   "source": []
  }
 ],
 "metadata": {
  "kernelspec": {
   "display_name": "Javascript (Node.js)",
   "language": "javascript",
   "name": "javascript"
  },
  "language_info": {
   "file_extension": ".js",
   "mimetype": "application/javascript",
   "name": "javascript",
   "version": "8.10.0"
  }
 },
 "nbformat": 4,
 "nbformat_minor": 4
}
