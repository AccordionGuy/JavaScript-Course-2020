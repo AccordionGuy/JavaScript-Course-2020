{
 "cells": [
  {
   "cell_type": "markdown",
   "metadata": {},
   "source": [
    "# Object-oriented programming with classes\n",
    "\n"
   ]
  },
  {
   "cell_type": "markdown",
   "metadata": {},
   "source": [
    "\n",
    "\n",
    "```\n",
    "let cat1Name = \"Luna\"\n",
    "let cat1Sound = \"Meow\"\n",
    "let cat1HitPoints = 3\n",
    "\n",
    "let cat2Name = \"Bella\"\n",
    "let cat2Sound = \"Purr\"\n",
    "let cat2HitPoints = 3\n",
    "\n",
    "let cat3Name = \"Zoe\"\n",
    "let cat3Sound = \"Hiss\"\n",
    "let cat3HitPoints = 3\n",
    "```"
   ]
  }
 ],
 "metadata": {
  "kernelspec": {
   "display_name": "Javascript (Node.js)",
   "language": "javascript",
   "name": "javascript"
  },
  "language_info": {
   "file_extension": ".js",
   "mimetype": "application/javascript",
   "name": "javascript",
   "version": "14.15.0"
  }
 },
 "nbformat": 4,
 "nbformat_minor": 4
}
