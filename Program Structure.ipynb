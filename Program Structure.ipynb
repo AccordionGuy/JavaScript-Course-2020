{
 "cells": [
  {
   "cell_type": "markdown",
   "metadata": {},
   "source": [
    "# Program Structure\n",
    "\n"
   ]
  },
  {
   "cell_type": "markdown",
   "metadata": {},
   "source": [
    "## Conditional execution\n",
    "\n"
   ]
  },
  {
   "cell_type": "code",
   "execution_count": null,
   "metadata": {},
   "outputs": [],
   "source": [
    "const prompt = require('prompt-sync')();\n",
    "\n",
    "const name = prompt('What is your name?');\n",
    "console.log(`Hey there ${name}`);"
   ]
  },
  {
   "cell_type": "markdown",
   "metadata": {},
   "source": [
    "## Exercise 1: Looping a triangle\n",
    "\n",
    "### The challenge\n",
    "\n",
    "Write a loop that makes seven calls to console.log to output the following triangle:\n",
    "\n",
    "```\n",
    "#\n",
    "##\n",
    "###\n",
    "####\n",
    "#####\n",
    "######\n",
    "#######\n",
    "```"
   ]
  },
  {
   "cell_type": "code",
   "execution_count": null,
   "metadata": {},
   "outputs": [],
   "source": [
    "for (let lineCount = 1; lineCount <= 7; lineCount++) {\n",
    "    let line = \"\"\n",
    "    for (let starCount = 1; starCount <= lineCount; starCount++) {\n",
    "        line += \"*\"\n",
    "    }\n",
    "    console.log(line)\n",
    "}"
   ]
  },
  {
   "cell_type": "markdown",
   "metadata": {},
   "source": [
    "## Exercise 2: FizzBuzz\n",
    "\n",
    "### The challenge\n",
    "Write a program that uses `console.log()` to print all the numbers from 1 to 100, with two exceptions. For numbers divisible by 3, print \"Fizz\" instead of the number, and for numbers divisible by 5 (and not 3), print \"Buzz\" instead.\n",
    "\n",
    "When you have that working, modify your program to print \"FizzBuzz\" for numbers that are divisible by both 3 and 5 (and still print \"Fizz\" or \"Buzz\" for numbers divisible by only one of those).\n",
    "\n",
    "(This is actually an interview question that has been claimed to weed out a significant percentage of programmer candidates. So if you solved it, your labor market value just went up.)"
   ]
  },
  {
   "cell_type": "code",
   "execution_count": null,
   "metadata": {},
   "outputs": [],
   "source": [
    "for (number = 1; number <= 100; number++) {\n",
    "    word = \"\"\n",
    "    const isMultipleOf3 = (number % 3 == 0)\n",
    "    const isMultipleOf5 = (number % 5 == 0)\n",
    "    if (isMultipleOf3 || isMultipleOf5) {\n",
    "        if (isMultipleOf3) {\n",
    "            word += \"Fizz\"\n",
    "        }\n",
    "        if (isMultipleOf5) {\n",
    "            word += \"Buzz\"\n",
    "        }\n",
    "    } else {\n",
    "        word = number.toString()\n",
    "    }\n",
    "    console.log(word)\n",
    "}"
   ]
  },
  {
   "cell_type": "markdown",
   "metadata": {},
   "source": [
    "## Exercise 3: Chessboard\n",
    "\n",
    "### The challenge\n",
    "Write a program that creates a string that represents an 8×8 grid, using newline characters to separate lines. At each position of the grid there is either a space or a \"#\" character. The characters should form a chessboard.\n",
    "\n",
    "Passing this string to `console.log()` should show something like this:\n",
    "\n",
    "```\n",
    " # # # #\n",
    "# # # # \n",
    " # # # #\n",
    "# # # # \n",
    " # # # #\n",
    "# # # # \n",
    " # # # #\n",
    "# # # #\n",
    "```\n",
    "\n",
    "When you have a program that generates this pattern, define a binding size = 8 and change the program so that it works for any size, outputting a grid of the given width and height."
   ]
  },
  {
   "cell_type": "code",
   "execution_count": null,
   "metadata": {},
   "outputs": [],
   "source": [
    "const boardSize = 8\n",
    "\n",
    "let board = \"\"\n",
    "\n",
    "for (let lineCount = 1; lineCount <= boardSize; lineCount++) {\n",
    "    let line = \"\"\n",
    "    for (let charCount = 1; charCount <= boardSize; charCount++) {\n",
    "        let currentChar = \"#\"\n",
    "        const isOddLine = (lineCount % 2 == 1)\n",
    "        const isOddChar = (charCount % 2 == 1)\n",
    "        \n",
    "        if ((isOddLine && isOddChar) || (!isOddLine && !isOddChar)) {\n",
    "            currentChar = \" \"\n",
    "        }\n",
    "        line += currentChar\n",
    "    }\n",
    "    board += line + \"\\n\" \n",
    "}\n",
    "\n",
    "console.log(board)"
   ]
  },
  {
   "cell_type": "code",
   "execution_count": null,
   "metadata": {},
   "outputs": [],
   "source": []
  }
 ],
 "metadata": {
  "kernelspec": {
   "display_name": "Javascript (Node.js)",
   "language": "javascript",
   "name": "javascript"
  },
  "language_info": {
   "file_extension": ".js",
   "mimetype": "application/javascript",
   "name": "javascript",
   "version": "8.10.0"
  }
 },
 "nbformat": 4,
 "nbformat_minor": 4
}
